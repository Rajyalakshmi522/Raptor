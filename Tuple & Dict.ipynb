{
 "cells": [
  {
   "cell_type": "markdown",
   "metadata": {},
   "source": [
    "# Tuples in Python\n",
    "- Tuples are similar to list.\n",
    "- Used to read the object data.\n",
    "- List is Mutable and Tuples are immutable.\n",
    "- List object can be used for insert(),update() and del() whereas Tuple object can only support for reading.\n",
    "- Tuple can be defined with in paranthesis()."
   ]
  },
  {
   "cell_type": "code",
   "execution_count": 2,
   "metadata": {},
   "outputs": [
    {
     "name": "stdout",
     "output_type": "stream",
     "text": [
      "(1, 2, 3, 4, 5) <class 'tuple'>\n"
     ]
    }
   ],
   "source": [
    "t1=(1,2,3,4,5)\n",
    "print(t1,type(t1))"
   ]
  },
  {
   "cell_type": "code",
   "execution_count": 11,
   "metadata": {},
   "outputs": [
    {
     "name": "stdout",
     "output_type": "stream",
     "text": [
      "(1, 2, 3)\n",
      "(1, 3, 5)\n",
      "(1, 2, 3, 4)\n",
      "(2, 4)\n",
      "(3, 4)\n"
     ]
    }
   ],
   "source": [
    "print(t1[0:3]) #Slicing in tuples\n",
    "print(t1[::2])\n",
    "print(t1[:-1])\n",
    "print(t1[1::2])\n",
    "print(t1[2:-1])"
   ]
  },
  {
   "cell_type": "code",
   "execution_count": 10,
   "metadata": {},
   "outputs": [
    {
     "ename": "TypeError",
     "evalue": "'tuple' object does not support item assignment",
     "output_type": "error",
     "traceback": [
      "\u001b[1;31m---------------------------------------------------------------------------\u001b[0m",
      "\u001b[1;31mTypeError\u001b[0m                                 Traceback (most recent call last)",
      "\u001b[1;32m<ipython-input-10-cc90437835fe>\u001b[0m in \u001b[0;36m<module>\u001b[1;34m()\u001b[0m\n\u001b[1;32m----> 1\u001b[1;33m \u001b[0mt1\u001b[0m\u001b[1;33m[\u001b[0m\u001b[1;36m1\u001b[0m\u001b[1;33m]\u001b[0m\u001b[1;33m=\u001b[0m\u001b[1;36m1998\u001b[0m \u001b[1;31m#Tuple is immutable\u001b[0m\u001b[1;33m\u001b[0m\u001b[0m\n\u001b[0m",
      "\u001b[1;31mTypeError\u001b[0m: 'tuple' object does not support item assignment"
     ]
    }
   ],
   "source": [
    "t1[1]=1998 #Tuple is immutable"
   ]
  },
  {
   "cell_type": "markdown",
   "metadata": {},
   "source": [
    "### Printing tuple using for loop"
   ]
  },
  {
   "cell_type": "code",
   "execution_count": 16,
   "metadata": {},
   "outputs": [
    {
     "name": "stdout",
     "output_type": "stream",
     "text": [
      "1 2 3 4 5 or 1 2 3 4 5 "
     ]
    }
   ],
   "source": [
    "for i in t1:\n",
    "    print(i,end=' ')\n",
    "print('or',end=' ')\n",
    "for i in range(len(t1)):\n",
    "    print(t1[i],end=' ')"
   ]
  },
  {
   "cell_type": "markdown",
   "metadata": {},
   "source": [
    "# Dictionaries in Python\n",
    "- General purpose data strucure in python.\n",
    "- Dictionary object basically consists of a key and value pair.\n",
    "- Dict obj consists of an unique value.\n",
    "- Dictionary obj can be enclosed in curly braces - {}\n",
    "- One pair key & value is seperated by comma.\n",
    "- Every key & value is seperated by colon(:)."
   ]
  },
  {
   "cell_type": "code",
   "execution_count": 2,
   "metadata": {},
   "outputs": [
    {
     "name": "stdout",
     "output_type": "stream",
     "text": [
      "{'Name': 'Hima', 'Rno': 4079, 'Email id': 'cherukurisrkh@gmail.com', 'phn': 9014469113} <class 'dict'>\n"
     ]
    }
   ],
   "source": [
    "d1={'Name':'Hima','Rno':4079,'Email id':'cherukurisrkh@gmail.com','phn':9014469113}\n",
    "print(d1,type(d1))"
   ]
  },
  {
   "cell_type": "code",
   "execution_count": 6,
   "metadata": {},
   "outputs": [
    {
     "name": "stdout",
     "output_type": "stream",
     "text": [
      "Hima\n",
      "dict_keys(['Name', 'Rno', 'Email id', 'phn'])\n"
     ]
    },
    {
     "data": {
      "text/plain": [
       "dict_values(['Hima', 4079, 'cherukurisrkh@gmail.com', 9014469113])"
      ]
     },
     "execution_count": 6,
     "metadata": {},
     "output_type": "execute_result"
    }
   ],
   "source": [
    "print(d1['Name'])\n",
    "li=[]\n",
    "li=d1.keys()\n",
    "print(li)\n",
    "d1.values()"
   ]
  },
  {
   "cell_type": "code",
   "execution_count": 13,
   "metadata": {},
   "outputs": [
    {
     "data": {
      "text/plain": [
       "['Name', 'Rno', 'Email id', 'phn']"
      ]
     },
     "execution_count": 13,
     "metadata": {},
     "output_type": "execute_result"
    }
   ],
   "source": [
    "li=[]\n",
    "for i in d1.keys():\n",
    "    li.append(i)\n",
    "li   "
   ]
  },
  {
   "cell_type": "code",
   "execution_count": 14,
   "metadata": {},
   "outputs": [
    {
     "name": "stdout",
     "output_type": "stream",
     "text": [
      "['Name', 'Rno', 'Email id', 'phn']\n"
     ]
    }
   ],
   "source": [
    "l1=[]\n",
    "l1=list(d1.keys())\n",
    "print(l1)"
   ]
  },
  {
   "cell_type": "code",
   "execution_count": 15,
   "metadata": {},
   "outputs": [
    {
     "name": "stdout",
     "output_type": "stream",
     "text": [
      "['Hima', 4079, 'cherukurisrkh@gmail.com', 9014469113]\n"
     ]
    }
   ],
   "source": [
    "l2=[]\n",
    "l2=list(d1.values())\n",
    "print(l2)"
   ]
  },
  {
   "cell_type": "code",
   "execution_count": 31,
   "metadata": {},
   "outputs": [
    {
     "name": "stdout",
     "output_type": "stream",
     "text": [
      "Name : Hima Rno : 4079 Email id : cherukurisrkh@gmail.com phn : 9014469113 "
     ]
    }
   ],
   "source": [
    "x=len(l1)\n",
    "y=len(l2)\n",
    "z=x+y\n",
    "for i in range(x):\n",
    "    print(l1[i],':',l2[i],end=' ')"
   ]
  },
  {
   "cell_type": "code",
   "execution_count": 17,
   "metadata": {},
   "outputs": [
    {
     "name": "stdout",
     "output_type": "stream",
     "text": [
      "Himaja\n"
     ]
    }
   ],
   "source": [
    "d1['Name']='Himaja'\n",
    "print(d1['Name'])"
   ]
  },
  {
   "cell_type": "code",
   "execution_count": 19,
   "metadata": {},
   "outputs": [
    {
     "name": "stdout",
     "output_type": "stream",
     "text": [
      "{'Name': 'Himaja', 'Email id': 'cherukurisrkh@gmail.com', 'phn': 9014469113}\n"
     ]
    }
   ],
   "source": [
    "del d1['Rno']\n",
    "print(d1)"
   ]
  },
  {
   "cell_type": "markdown",
   "metadata": {},
   "source": [
    "### Contact  Application\n",
    "- **List,Tuple,Dict**\n",
    "- Add a new Contact Details\n",
    "- Search Contact\n",
    "- Edit Contact\n",
    "- Delete Contact\n",
    "- Sort Contact list(Name,Phone)\n",
    "- One Name should have 2 mobile numbers\n",
    "- Print Only names in sorted order"
   ]
  },
  {
   "cell_type": "code",
   "execution_count": 43,
   "metadata": {},
   "outputs": [
    {
     "name": "stdout",
     "output_type": "stream",
     "text": [
      "Hima Inserted successfully\n",
      "Srinu Inserted successfully\n",
      "Rathna Inserted successfully\n",
      "Himaja Inserted successfully\n"
     ]
    }
   ],
   "source": [
    "#Add a new Contact Details\n",
    "Contacts = {} #Empty dict\n",
    "def addContact(name,phn):\n",
    "    if name not in Contacts:\n",
    "        Contacts[name]=phn\n",
    "        print(name,'Inserted successfully')\n",
    "    else:\n",
    "        print(\"Already Exists\")\n",
    "    return\n",
    "addContact('Hima',9603274799)#Inserted\n",
    "addContact('Srinu',9949942219)#Inserted\n",
    "addContact('Rathna',9949058301)#Inserted\n",
    "addContact('Himaja',9014469113)"
   ]
  },
  {
   "cell_type": "code",
   "execution_count": 2,
   "metadata": {},
   "outputs": [
    {
     "name": "stdout",
     "output_type": "stream",
     "text": [
      "('Hima', ':', 9014469113)\n",
      "Contact is not present\n"
     ]
    }
   ],
   "source": [
    "#Search Contact\n",
    "def searchContact(name):\n",
    "    if name in Contacts:\n",
    "        return name,':',Contacts[name]\n",
    "    else:\n",
    "        return\"Contact is not present\"\n",
    "print(searchContact('Hima'))\n",
    "print(searchContact('Madhu'))"
   ]
  },
  {
   "cell_type": "code",
   "execution_count": 3,
   "metadata": {},
   "outputs": [
    {
     "name": "stdout",
     "output_type": "stream",
     "text": [
      "Hima updated successfully\n"
     ]
    }
   ],
   "source": [
    "#Edit Contact\n",
    "def editContact(name,phn):\n",
    "    if name in Contacts:\n",
    "        Contacts[name]=phn\n",
    "        print(name,\"updated successfully\")\n",
    "    else:\n",
    "        print(name,\"not exists\")\n",
    "editContact('Hima',9603274799)"
   ]
  },
  {
   "cell_type": "code",
   "execution_count": 4,
   "metadata": {},
   "outputs": [
    {
     "name": "stdout",
     "output_type": "stream",
     "text": [
      "srinu not exists\n"
     ]
    }
   ],
   "source": [
    "#Delete Contact\n",
    "def delContact(name):\n",
    "    if name in Contacts:\n",
    "        del Contacts[name]\n",
    "        print(\"Deleted Successfully\")\n",
    "    else:\n",
    "        print(name,'not exists')\n",
    "delContact('srinu')"
   ]
  },
  {
   "cell_type": "code",
   "execution_count": 36,
   "metadata": {},
   "outputs": [
    {
     "name": "stdout",
     "output_type": "stream",
     "text": [
      "['Hima', 'Himaja', 'Rathna', 'Srinu']\n",
      "Sorted Sucessfully\n"
     ]
    }
   ],
   "source": [
    "#Print Only names in sorted order\n",
    "def sort1():\n",
    "        x=sorted(Contacts)\n",
    "        print(x)\n",
    "        print(\"Sorted Sucessfully\")\n",
    "sort1()"
   ]
  },
  {
   "cell_type": "code",
   "execution_count": 35,
   "metadata": {},
   "outputs": [
    {
     "name": "stdout",
     "output_type": "stream",
     "text": [
      "['Hima', 'Himaja', 'Rathna', 'Srinu']\n"
     ]
    }
   ],
   "source": [
    "x=sorted(Contacts)\n",
    "print(x)"
   ]
  },
  {
   "cell_type": "code",
   "execution_count": 41,
   "metadata": {},
   "outputs": [
    {
     "name": "stdout",
     "output_type": "stream",
     "text": [
      "['Hima', 'Himaja', 'Rathna', 'Srinu']\n",
      "{'Hima': 9603274799, 'Srinu': 9949942219, 'Rathna': 9949058301, 'Himaja': (9014469113, 9903131420)}\n"
     ]
    }
   ],
   "source": [
    "def sort2(Contacts):\n",
    "    x=sorted(Contacts)\n",
    "    return (x)\n",
    "print(sort2(Contacts))\n",
    "print(Contacts)"
   ]
  },
  {
   "cell_type": "code",
   "execution_count": 34,
   "metadata": {},
   "outputs": [
    {
     "name": "stdout",
     "output_type": "stream",
     "text": [
      "{'Hima': 9603274799, 'Himaja': (9014469113, 9903131420), 'Rathna': 9949058301, 'Srinu': 9949942219}\n"
     ]
    }
   ],
   "source": [
    "#Sort Contact list(Name,Phone)\n",
    "def sort2(Contacts):\n",
    "    l=[]\n",
    "    l=list(Contacts)\n",
    "    l.sort()\n",
    "    d={}\n",
    "    for i in l:\n",
    "        d[i]=Contacts[i]\n",
    "    print(d)\n",
    "sort2(Contacts)"
   ]
  },
  {
   "cell_type": "code",
   "execution_count": 44,
   "metadata": {},
   "outputs": [
    {
     "name": "stdout",
     "output_type": "stream",
     "text": [
      "('Himaja', ':', (9014469113, 9903131420))\n"
     ]
    }
   ],
   "source": [
    "#One Name should have 2 mobile numbers\n",
    "def addnum(name,ph1):\n",
    "    if name in Contacts:\n",
    "        Contacts[name]=Contacts[name],ph1\n",
    "        return name,':',Contacts[name]\n",
    "    else:\n",
    "        print(\"Not exists\")\n",
    "print(addnum('Himaja',9903131420))\n"
   ]
  },
  {
   "cell_type": "code",
   "execution_count": 58,
   "metadata": {},
   "outputs": [
    {
     "name": "stdout",
     "output_type": "stream",
     "text": [
      "1\n",
      "2\n",
      "3\n",
      "4\n",
      "5\n",
      "6\n",
      "7\n",
      "8\n",
      "9\n",
      "153\n",
      "370\n",
      "371\n",
      "407\n"
     ]
    }
   ],
   "source": [
    "def armstrong(n):\n",
    "    x=n\n",
    "    a=x\n",
    "    c=0\n",
    "    arm=0\n",
    "    while(n>0):\n",
    "        re=n%10\n",
    "        c+=1\n",
    "        n=int(n/10)\n",
    "    while(x>0):\n",
    "        r=x%10\n",
    "        arm=arm+r**c\n",
    "        x=int(x/10)\n",
    "    if(arm==a):\n",
    "        print(a)\n",
    "for i in range(1,1111):\n",
    "    armstrong(i)"
   ]
  },
  {
   "cell_type": "markdown",
   "metadata": {},
   "source": []
  },
  {
   "cell_type": "code",
   "execution_count": null,
   "metadata": {},
   "outputs": [],
   "source": []
  },
  {
   "cell_type": "code",
   "execution_count": null,
   "metadata": {},
   "outputs": [],
   "source": []
  }
 ],
 "metadata": {
  "kernelspec": {
   "display_name": "Python 3",
   "language": "python",
   "name": "python3"
  },
  "language_info": {
   "codemirror_mode": {
    "name": "ipython",
    "version": 3
   },
   "file_extension": ".py",
   "mimetype": "text/x-python",
   "name": "python",
   "nbconvert_exporter": "python",
   "pygments_lexer": "ipython3",
   "version": "3.6.5"
  }
 },
 "nbformat": 4,
 "nbformat_minor": 2
}
