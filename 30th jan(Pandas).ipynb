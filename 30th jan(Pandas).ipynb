{
 "cells": [
  {
   "cell_type": "code",
   "execution_count": 1,
   "metadata": {},
   "outputs": [
    {
     "data": {
      "text/plain": [
       "'0.23.0'"
      ]
     },
     "execution_count": 1,
     "metadata": {},
     "output_type": "execute_result"
    }
   ],
   "source": [
    "import pandas as pd\n",
    "pd.__version__"
   ]
  },
  {
   "cell_type": "markdown",
   "metadata": {},
   "source": [
    "- Series --> 1d Array\n",
    "- DataFrame --> 2d Array\n",
    "- Pannel --> 3d Array"
   ]
  },
  {
   "cell_type": "code",
   "execution_count": 5,
   "metadata": {},
   "outputs": [
    {
     "data": {
      "text/plain": [
       "1    56\n",
       "2    12\n",
       "3    49\n",
       "dtype: int64"
      ]
     },
     "execution_count": 5,
     "metadata": {},
     "output_type": "execute_result"
    }
   ],
   "source": [
    "pd.Series([56,12,49],index=[1,2,3])"
   ]
  },
  {
   "cell_type": "code",
   "execution_count": 4,
   "metadata": {},
   "outputs": [
    {
     "data": {
      "text/plain": [
       "array([10, 20, 30])"
      ]
     },
     "execution_count": 4,
     "metadata": {},
     "output_type": "execute_result"
    }
   ],
   "source": [
    "import numpy as np\n",
    "np.array([10,20,30])"
   ]
  },
  {
   "cell_type": "code",
   "execution_count": 11,
   "metadata": {},
   "outputs": [],
   "source": [
    "s=pd.Series(['Hima','Nikki','Geetha'],index=['Ch','M','M'])"
   ]
  },
  {
   "cell_type": "code",
   "execution_count": 27,
   "metadata": {},
   "outputs": [
    {
     "name": "stdout",
     "output_type": "stream",
     "text": [
      "Hima\n"
     ]
    },
    {
     "data": {
      "text/plain": [
       "Index(['Ch', 'M', 'M'], dtype='object')"
      ]
     },
     "execution_count": 27,
     "metadata": {},
     "output_type": "execute_result"
    }
   ],
   "source": [
    "print(s['Ch'])\n",
    "s.index"
   ]
  },
  {
   "cell_type": "code",
   "execution_count": 25,
   "metadata": {},
   "outputs": [
    {
     "name": "stdout",
     "output_type": "stream",
     "text": [
      "79 106\n"
     ]
    }
   ],
   "source": [
    "d={'hima':79,'nikki':106,'geetha':180}\n",
    "x=pd.Series(d)\n",
    "print(x['hima'],x[1])"
   ]
  },
  {
   "cell_type": "code",
   "execution_count": 30,
   "metadata": {},
   "outputs": [
    {
     "data": {
      "text/plain": [
       "Index(['hima', 'nikki', 'geetha'], dtype='object')"
      ]
     },
     "execution_count": 30,
     "metadata": {},
     "output_type": "execute_result"
    }
   ],
   "source": [
    "x.index"
   ]
  },
  {
   "cell_type": "markdown",
   "metadata": {},
   "source": [
    "## DataFrame"
   ]
  },
  {
   "cell_type": "code",
   "execution_count": 39,
   "metadata": {},
   "outputs": [
    {
     "name": "stdout",
     "output_type": "stream",
     "text": [
      "       name Language\n",
      "79     Hima       py\n",
      "106   Nikki        c\n",
      "180  Geetha        J \n",
      " Hima\n"
     ]
    }
   ],
   "source": [
    "d={'name':['Hima','Nikki','Geetha'],'Language':['py','c','J']}\n",
    "df=pd.DataFrame(d,index=(79,106,180))\n",
    "print(df,'\\n',df['name'][79])"
   ]
  },
  {
   "cell_type": "code",
   "execution_count": 42,
   "metadata": {},
   "outputs": [
    {
     "data": {
      "text/html": [
       "<div>\n",
       "<style scoped>\n",
       "    .dataframe tbody tr th:only-of-type {\n",
       "        vertical-align: middle;\n",
       "    }\n",
       "\n",
       "    .dataframe tbody tr th {\n",
       "        vertical-align: top;\n",
       "    }\n",
       "\n",
       "    .dataframe thead th {\n",
       "        text-align: right;\n",
       "    }\n",
       "</style>\n",
       "<table border=\"1\" class=\"dataframe\">\n",
       "  <thead>\n",
       "    <tr style=\"text-align: right;\">\n",
       "      <th></th>\n",
       "      <th>Timestamp</th>\n",
       "      <th>Name</th>\n",
       "      <th>MailId</th>\n",
       "      <th>Branch</th>\n",
       "      <th>Qualification</th>\n",
       "      <th>RollNumber</th>\n",
       "    </tr>\n",
       "  </thead>\n",
       "  <tbody>\n",
       "    <tr>\n",
       "      <th>0</th>\n",
       "      <td>30/01/2020 15:00:07</td>\n",
       "      <td>Sai Naga Raju</td>\n",
       "      <td>sainagarajusakhamuri99@gmail.com</td>\n",
       "      <td>IT</td>\n",
       "      <td>B.Tech</td>\n",
       "      <td>161FA07039</td>\n",
       "    </tr>\n",
       "    <tr>\n",
       "      <th>1</th>\n",
       "      <td>30/01/2020 15:00:20</td>\n",
       "      <td>R deepak</td>\n",
       "      <td>deepakrella9@gmail.com</td>\n",
       "      <td>MCA</td>\n",
       "      <td>PG</td>\n",
       "      <td>121722501019</td>\n",
       "    </tr>\n",
       "    <tr>\n",
       "      <th>2</th>\n",
       "      <td>30/01/2020 15:00:23</td>\n",
       "      <td>P K CHAITANYA</td>\n",
       "      <td>chaitu1495@gmail.com</td>\n",
       "      <td>MCA</td>\n",
       "      <td>PG</td>\n",
       "      <td>121722501015</td>\n",
       "    </tr>\n",
       "    <tr>\n",
       "      <th>3</th>\n",
       "      <td>30/01/2020 15:00:25</td>\n",
       "      <td>B SRIKANTH</td>\n",
       "      <td>srikanthbisai@gmail.com</td>\n",
       "      <td>MCA</td>\n",
       "      <td>PG</td>\n",
       "      <td>121722501002</td>\n",
       "    </tr>\n",
       "    <tr>\n",
       "      <th>4</th>\n",
       "      <td>30/01/2020 15:00:28</td>\n",
       "      <td>Himaja cherukuri</td>\n",
       "      <td>himajacherukuri@gmail.com</td>\n",
       "      <td>cse</td>\n",
       "      <td>BTech</td>\n",
       "      <td>161fa04079</td>\n",
       "    </tr>\n",
       "    <tr>\n",
       "      <th>5</th>\n",
       "      <td>30/01/2020 15:00:28</td>\n",
       "      <td>M.Geethanjali</td>\n",
       "      <td>geethamuppuri@gmail.com</td>\n",
       "      <td>CSE</td>\n",
       "      <td>B.Tech</td>\n",
       "      <td>161FA04180</td>\n",
       "    </tr>\n",
       "    <tr>\n",
       "      <th>6</th>\n",
       "      <td>30/01/2020 15:00:33</td>\n",
       "      <td>M.Nikhita</td>\n",
       "      <td>muvvanikhita@gmail.com</td>\n",
       "      <td>CSE</td>\n",
       "      <td>B.Tech</td>\n",
       "      <td>161FA04106</td>\n",
       "    </tr>\n",
       "    <tr>\n",
       "      <th>7</th>\n",
       "      <td>30/01/2020 15:00:37</td>\n",
       "      <td>DASARI PAVAN SAI</td>\n",
       "      <td>pavandasari226@gmail.com</td>\n",
       "      <td>Information Technology</td>\n",
       "      <td>B.Tech</td>\n",
       "      <td>161FA07042</td>\n",
       "    </tr>\n",
       "    <tr>\n",
       "      <th>8</th>\n",
       "      <td>30/01/2020 15:00:39</td>\n",
       "      <td>B Jagan Mohan</td>\n",
       "      <td>bjaganmohan24@gmail.com</td>\n",
       "      <td>Data Science</td>\n",
       "      <td>M.sc</td>\n",
       "      <td>121822502015</td>\n",
       "    </tr>\n",
       "    <tr>\n",
       "      <th>9</th>\n",
       "      <td>30/01/2020 15:00:41</td>\n",
       "      <td>k.parameswara rao</td>\n",
       "      <td>parameshkarumuri1997@gmail.com</td>\n",
       "      <td>MCA</td>\n",
       "      <td>PG</td>\n",
       "      <td>121722501011</td>\n",
       "    </tr>\n",
       "    <tr>\n",
       "      <th>10</th>\n",
       "      <td>30/01/2020 15:00:43</td>\n",
       "      <td>B.Ravindra kumar</td>\n",
       "      <td>ravindrakumarroyal12@gmail.com</td>\n",
       "      <td>DataScience</td>\n",
       "      <td>Msc</td>\n",
       "      <td>121822502017</td>\n",
       "    </tr>\n",
       "    <tr>\n",
       "      <th>11</th>\n",
       "      <td>30/01/2020 15:00:44</td>\n",
       "      <td>P.M.S.Bhargav Kumar</td>\n",
       "      <td>bhargavperumalla123@gmail.com</td>\n",
       "      <td>Computer Science</td>\n",
       "      <td>MCA</td>\n",
       "      <td>121722501026</td>\n",
       "    </tr>\n",
       "    <tr>\n",
       "      <th>12</th>\n",
       "      <td>30/01/2020 15:00:45</td>\n",
       "      <td>Thatavarti kavya sree</td>\n",
       "      <td>kavyathatavarti@gmail.com</td>\n",
       "      <td>IT</td>\n",
       "      <td>B.Tech</td>\n",
       "      <td>161FA07050</td>\n",
       "    </tr>\n",
       "    <tr>\n",
       "      <th>13</th>\n",
       "      <td>30/01/2020 15:01:10</td>\n",
       "      <td>Harish Bandi</td>\n",
       "      <td>harishbandi12@gmail.com</td>\n",
       "      <td>Information Technology</td>\n",
       "      <td>B.TECH</td>\n",
       "      <td>161FA07035</td>\n",
       "    </tr>\n",
       "    <tr>\n",
       "      <th>14</th>\n",
       "      <td>30/01/2020 15:01:16</td>\n",
       "      <td>M.Bhavani Sankar Reddy</td>\n",
       "      <td>bhavanisankar5758@gmail.com</td>\n",
       "      <td>Data Science</td>\n",
       "      <td>MSc</td>\n",
       "      <td>121822502018</td>\n",
       "    </tr>\n",
       "    <tr>\n",
       "      <th>15</th>\n",
       "      <td>30/01/2020 15:01:24</td>\n",
       "      <td>Devendra Kumar</td>\n",
       "      <td>devendra108148@gmail.com</td>\n",
       "      <td>ECE</td>\n",
       "      <td>B.Tech</td>\n",
       "      <td>14F41A0461</td>\n",
       "    </tr>\n",
       "    <tr>\n",
       "      <th>16</th>\n",
       "      <td>30/01/2020 15:01:35</td>\n",
       "      <td>M.Ramya</td>\n",
       "      <td>ramya.marripoodi@gmail.com</td>\n",
       "      <td>Information Technology</td>\n",
       "      <td>B.Tech</td>\n",
       "      <td>161FA07002</td>\n",
       "    </tr>\n",
       "    <tr>\n",
       "      <th>17</th>\n",
       "      <td>30/01/2020 15:01:49</td>\n",
       "      <td>T.V.Naga Jyothi</td>\n",
       "      <td>tvnagajyothi@gmail.com</td>\n",
       "      <td>Information Technology</td>\n",
       "      <td>B.tech</td>\n",
       "      <td>161FA07049</td>\n",
       "    </tr>\n",
       "    <tr>\n",
       "      <th>18</th>\n",
       "      <td>30/01/2020 15:01:50</td>\n",
       "      <td>Ananda Lakshmi</td>\n",
       "      <td>p.anandalakshmi@gmail.com</td>\n",
       "      <td>b com(computers)</td>\n",
       "      <td>degree</td>\n",
       "      <td>y167189053</td>\n",
       "    </tr>\n",
       "    <tr>\n",
       "      <th>19</th>\n",
       "      <td>30/01/2020 15:01:56</td>\n",
       "      <td>K . krishna</td>\n",
       "      <td>saikamavarapu@gmail.com</td>\n",
       "      <td>B.Sc(comp)</td>\n",
       "      <td>Degree</td>\n",
       "      <td>140082202030</td>\n",
       "    </tr>\n",
       "    <tr>\n",
       "      <th>20</th>\n",
       "      <td>30/01/2020 15:02:04</td>\n",
       "      <td>Md.Ali Asghar Khoyee</td>\n",
       "      <td>ali95asghar@gmail.com</td>\n",
       "      <td>Computer Science</td>\n",
       "      <td>MCA</td>\n",
       "      <td>121722501013</td>\n",
       "    </tr>\n",
       "    <tr>\n",
       "      <th>21</th>\n",
       "      <td>30/01/2020 15:02:41</td>\n",
       "      <td>G. Vineeth Kumar</td>\n",
       "      <td>121822502016@gitam.in</td>\n",
       "      <td>Data Science</td>\n",
       "      <td>M.Sc</td>\n",
       "      <td>121822502016</td>\n",
       "    </tr>\n",
       "    <tr>\n",
       "      <th>22</th>\n",
       "      <td>30/01/2020 15:02:49</td>\n",
       "      <td>JAYA NAVEEN KUMAR DUPPATI</td>\n",
       "      <td>duppatijayanaveen@gmail.com</td>\n",
       "      <td>I.T</td>\n",
       "      <td>B.TECH</td>\n",
       "      <td>161FA07012</td>\n",
       "    </tr>\n",
       "    <tr>\n",
       "      <th>23</th>\n",
       "      <td>30/01/2020 15:02:59</td>\n",
       "      <td>vikram S</td>\n",
       "      <td>vikramsabbavarapu60@gmail.com</td>\n",
       "      <td>civil engineering</td>\n",
       "      <td>B-tech</td>\n",
       "      <td>133J1A0150</td>\n",
       "    </tr>\n",
       "    <tr>\n",
       "      <th>24</th>\n",
       "      <td>30/01/2020 15:04:10</td>\n",
       "      <td>SAI TEJA JALADI</td>\n",
       "      <td>saitejajaladi2000@gmail.com</td>\n",
       "      <td>I.T</td>\n",
       "      <td>B.TECH</td>\n",
       "      <td>161FA07025</td>\n",
       "    </tr>\n",
       "    <tr>\n",
       "      <th>25</th>\n",
       "      <td>30/01/2020 15:07:38</td>\n",
       "      <td>SAIKUMAR MANIKONDA</td>\n",
       "      <td>saikumarm64@gmail.com</td>\n",
       "      <td>Automobile Engineering</td>\n",
       "      <td>B.E</td>\n",
       "      <td>245112769310</td>\n",
       "    </tr>\n",
       "  </tbody>\n",
       "</table>\n",
       "</div>"
      ],
      "text/plain": [
       "              Timestamp                       Name  \\\n",
       "0   30/01/2020 15:00:07              Sai Naga Raju   \n",
       "1   30/01/2020 15:00:20                   R deepak   \n",
       "2   30/01/2020 15:00:23              P K CHAITANYA   \n",
       "3   30/01/2020 15:00:25                 B SRIKANTH   \n",
       "4   30/01/2020 15:00:28           Himaja cherukuri   \n",
       "5   30/01/2020 15:00:28              M.Geethanjali   \n",
       "6   30/01/2020 15:00:33                  M.Nikhita   \n",
       "7   30/01/2020 15:00:37           DASARI PAVAN SAI   \n",
       "8   30/01/2020 15:00:39              B Jagan Mohan   \n",
       "9   30/01/2020 15:00:41          k.parameswara rao   \n",
       "10  30/01/2020 15:00:43           B.Ravindra kumar   \n",
       "11  30/01/2020 15:00:44        P.M.S.Bhargav Kumar   \n",
       "12  30/01/2020 15:00:45      Thatavarti kavya sree   \n",
       "13  30/01/2020 15:01:10               Harish Bandi   \n",
       "14  30/01/2020 15:01:16     M.Bhavani Sankar Reddy   \n",
       "15  30/01/2020 15:01:24             Devendra Kumar   \n",
       "16  30/01/2020 15:01:35                    M.Ramya   \n",
       "17  30/01/2020 15:01:49            T.V.Naga Jyothi   \n",
       "18  30/01/2020 15:01:50             Ananda Lakshmi   \n",
       "19  30/01/2020 15:01:56                K . krishna   \n",
       "20  30/01/2020 15:02:04       Md.Ali Asghar Khoyee   \n",
       "21  30/01/2020 15:02:41           G. Vineeth Kumar   \n",
       "22  30/01/2020 15:02:49  JAYA NAVEEN KUMAR DUPPATI   \n",
       "23  30/01/2020 15:02:59                   vikram S   \n",
       "24  30/01/2020 15:04:10            SAI TEJA JALADI   \n",
       "25  30/01/2020 15:07:38         SAIKUMAR MANIKONDA   \n",
       "\n",
       "                              MailId                  Branch Qualification  \\\n",
       "0   sainagarajusakhamuri99@gmail.com                      IT        B.Tech   \n",
       "1             deepakrella9@gmail.com                     MCA            PG   \n",
       "2               chaitu1495@gmail.com                     MCA            PG   \n",
       "3            srikanthbisai@gmail.com                     MCA            PG   \n",
       "4          himajacherukuri@gmail.com                     cse         BTech   \n",
       "5            geethamuppuri@gmail.com                     CSE        B.Tech   \n",
       "6             muvvanikhita@gmail.com                     CSE        B.Tech   \n",
       "7           pavandasari226@gmail.com  Information Technology        B.Tech   \n",
       "8            bjaganmohan24@gmail.com            Data Science          M.sc   \n",
       "9     parameshkarumuri1997@gmail.com                     MCA            PG   \n",
       "10    ravindrakumarroyal12@gmail.com             DataScience           Msc   \n",
       "11     bhargavperumalla123@gmail.com        Computer Science           MCA   \n",
       "12         kavyathatavarti@gmail.com                      IT        B.Tech   \n",
       "13           harishbandi12@gmail.com  Information Technology        B.TECH   \n",
       "14       bhavanisankar5758@gmail.com            Data Science           MSc   \n",
       "15          devendra108148@gmail.com                     ECE        B.Tech   \n",
       "16        ramya.marripoodi@gmail.com  Information Technology        B.Tech   \n",
       "17            tvnagajyothi@gmail.com  Information Technology        B.tech   \n",
       "18         p.anandalakshmi@gmail.com        b com(computers)        degree   \n",
       "19           saikamavarapu@gmail.com              B.Sc(comp)        Degree   \n",
       "20             ali95asghar@gmail.com        Computer Science           MCA   \n",
       "21             121822502016@gitam.in            Data Science          M.Sc   \n",
       "22       duppatijayanaveen@gmail.com                     I.T        B.TECH   \n",
       "23     vikramsabbavarapu60@gmail.com       civil engineering        B-tech   \n",
       "24       saitejajaladi2000@gmail.com                     I.T        B.TECH   \n",
       "25             saikumarm64@gmail.com  Automobile Engineering           B.E   \n",
       "\n",
       "      RollNumber  \n",
       "0     161FA07039  \n",
       "1   121722501019  \n",
       "2   121722501015  \n",
       "3   121722501002  \n",
       "4     161fa04079  \n",
       "5     161FA04180  \n",
       "6     161FA04106  \n",
       "7     161FA07042  \n",
       "8   121822502015  \n",
       "9   121722501011  \n",
       "10  121822502017  \n",
       "11  121722501026  \n",
       "12    161FA07050  \n",
       "13    161FA07035  \n",
       "14  121822502018  \n",
       "15    14F41A0461  \n",
       "16    161FA07002  \n",
       "17    161FA07049  \n",
       "18    y167189053  \n",
       "19  140082202030  \n",
       "20  121722501013  \n",
       "21  121822502016  \n",
       "22    161FA07012  \n",
       "23    133J1A0150  \n",
       "24    161FA07025  \n",
       "25  245112769310  "
      ]
     },
     "execution_count": 42,
     "metadata": {},
     "output_type": "execute_result"
    }
   ],
   "source": [
    "data=pd.read_csv('https://raw.githubusercontent.com/sumathi16/Machine-Learning-with-Python/master/data/Student%20Data%20ML%20Jan%20(Responses)%20-%20Form%20responses%201.csv')\n",
    "data"
   ]
  },
  {
   "cell_type": "code",
   "execution_count": 44,
   "metadata": {},
   "outputs": [
    {
     "data": {
      "text/plain": [
       "(26, 6)"
      ]
     },
     "execution_count": 44,
     "metadata": {},
     "output_type": "execute_result"
    }
   ],
   "source": [
    "data.shape"
   ]
  },
  {
   "cell_type": "code",
   "execution_count": 46,
   "metadata": {},
   "outputs": [
    {
     "data": {
      "text/html": [
       "<div>\n",
       "<style scoped>\n",
       "    .dataframe tbody tr th:only-of-type {\n",
       "        vertical-align: middle;\n",
       "    }\n",
       "\n",
       "    .dataframe tbody tr th {\n",
       "        vertical-align: top;\n",
       "    }\n",
       "\n",
       "    .dataframe thead th {\n",
       "        text-align: right;\n",
       "    }\n",
       "</style>\n",
       "<table border=\"1\" class=\"dataframe\">\n",
       "  <thead>\n",
       "    <tr style=\"text-align: right;\">\n",
       "      <th></th>\n",
       "      <th>Timestamp</th>\n",
       "      <th>Name</th>\n",
       "      <th>MailId</th>\n",
       "      <th>Branch</th>\n",
       "      <th>Qualification</th>\n",
       "      <th>RollNumber</th>\n",
       "    </tr>\n",
       "  </thead>\n",
       "  <tbody>\n",
       "    <tr>\n",
       "      <th>0</th>\n",
       "      <td>30/01/2020 15:00:07</td>\n",
       "      <td>Sai Naga Raju</td>\n",
       "      <td>sainagarajusakhamuri99@gmail.com</td>\n",
       "      <td>IT</td>\n",
       "      <td>B.Tech</td>\n",
       "      <td>161FA07039</td>\n",
       "    </tr>\n",
       "    <tr>\n",
       "      <th>1</th>\n",
       "      <td>30/01/2020 15:00:20</td>\n",
       "      <td>R deepak</td>\n",
       "      <td>deepakrella9@gmail.com</td>\n",
       "      <td>MCA</td>\n",
       "      <td>PG</td>\n",
       "      <td>121722501019</td>\n",
       "    </tr>\n",
       "    <tr>\n",
       "      <th>2</th>\n",
       "      <td>30/01/2020 15:00:23</td>\n",
       "      <td>P K CHAITANYA</td>\n",
       "      <td>chaitu1495@gmail.com</td>\n",
       "      <td>MCA</td>\n",
       "      <td>PG</td>\n",
       "      <td>121722501015</td>\n",
       "    </tr>\n",
       "    <tr>\n",
       "      <th>3</th>\n",
       "      <td>30/01/2020 15:00:25</td>\n",
       "      <td>B SRIKANTH</td>\n",
       "      <td>srikanthbisai@gmail.com</td>\n",
       "      <td>MCA</td>\n",
       "      <td>PG</td>\n",
       "      <td>121722501002</td>\n",
       "    </tr>\n",
       "    <tr>\n",
       "      <th>4</th>\n",
       "      <td>30/01/2020 15:00:28</td>\n",
       "      <td>Himaja cherukuri</td>\n",
       "      <td>himajacherukuri@gmail.com</td>\n",
       "      <td>cse</td>\n",
       "      <td>BTech</td>\n",
       "      <td>161fa04079</td>\n",
       "    </tr>\n",
       "  </tbody>\n",
       "</table>\n",
       "</div>"
      ],
      "text/plain": [
       "             Timestamp              Name                            MailId  \\\n",
       "0  30/01/2020 15:00:07     Sai Naga Raju  sainagarajusakhamuri99@gmail.com   \n",
       "1  30/01/2020 15:00:20          R deepak            deepakrella9@gmail.com   \n",
       "2  30/01/2020 15:00:23     P K CHAITANYA              chaitu1495@gmail.com   \n",
       "3  30/01/2020 15:00:25        B SRIKANTH           srikanthbisai@gmail.com   \n",
       "4  30/01/2020 15:00:28  Himaja cherukuri         himajacherukuri@gmail.com   \n",
       "\n",
       "  Branch Qualification    RollNumber  \n",
       "0     IT        B.Tech    161FA07039  \n",
       "1    MCA            PG  121722501019  \n",
       "2    MCA            PG  121722501015  \n",
       "3    MCA            PG  121722501002  \n",
       "4    cse         BTech    161fa04079  "
      ]
     },
     "execution_count": 46,
     "metadata": {},
     "output_type": "execute_result"
    }
   ],
   "source": [
    "data.head(5)"
   ]
  },
  {
   "cell_type": "code",
   "execution_count": 47,
   "metadata": {},
   "outputs": [
    {
     "data": {
      "text/html": [
       "<div>\n",
       "<style scoped>\n",
       "    .dataframe tbody tr th:only-of-type {\n",
       "        vertical-align: middle;\n",
       "    }\n",
       "\n",
       "    .dataframe tbody tr th {\n",
       "        vertical-align: top;\n",
       "    }\n",
       "\n",
       "    .dataframe thead th {\n",
       "        text-align: right;\n",
       "    }\n",
       "</style>\n",
       "<table border=\"1\" class=\"dataframe\">\n",
       "  <thead>\n",
       "    <tr style=\"text-align: right;\">\n",
       "      <th></th>\n",
       "      <th>Timestamp</th>\n",
       "      <th>Name</th>\n",
       "      <th>MailId</th>\n",
       "      <th>Branch</th>\n",
       "      <th>Qualification</th>\n",
       "      <th>RollNumber</th>\n",
       "    </tr>\n",
       "  </thead>\n",
       "  <tbody>\n",
       "    <tr>\n",
       "      <th>23</th>\n",
       "      <td>30/01/2020 15:02:59</td>\n",
       "      <td>vikram S</td>\n",
       "      <td>vikramsabbavarapu60@gmail.com</td>\n",
       "      <td>civil engineering</td>\n",
       "      <td>B-tech</td>\n",
       "      <td>133J1A0150</td>\n",
       "    </tr>\n",
       "    <tr>\n",
       "      <th>24</th>\n",
       "      <td>30/01/2020 15:04:10</td>\n",
       "      <td>SAI TEJA JALADI</td>\n",
       "      <td>saitejajaladi2000@gmail.com</td>\n",
       "      <td>I.T</td>\n",
       "      <td>B.TECH</td>\n",
       "      <td>161FA07025</td>\n",
       "    </tr>\n",
       "    <tr>\n",
       "      <th>25</th>\n",
       "      <td>30/01/2020 15:07:38</td>\n",
       "      <td>SAIKUMAR MANIKONDA</td>\n",
       "      <td>saikumarm64@gmail.com</td>\n",
       "      <td>Automobile Engineering</td>\n",
       "      <td>B.E</td>\n",
       "      <td>245112769310</td>\n",
       "    </tr>\n",
       "  </tbody>\n",
       "</table>\n",
       "</div>"
      ],
      "text/plain": [
       "              Timestamp                Name                         MailId  \\\n",
       "23  30/01/2020 15:02:59            vikram S  vikramsabbavarapu60@gmail.com   \n",
       "24  30/01/2020 15:04:10     SAI TEJA JALADI    saitejajaladi2000@gmail.com   \n",
       "25  30/01/2020 15:07:38  SAIKUMAR MANIKONDA          saikumarm64@gmail.com   \n",
       "\n",
       "                    Branch Qualification    RollNumber  \n",
       "23       civil engineering        B-tech    133J1A0150  \n",
       "24                     I.T        B.TECH    161FA07025  \n",
       "25  Automobile Engineering           B.E  245112769310  "
      ]
     },
     "execution_count": 47,
     "metadata": {},
     "output_type": "execute_result"
    }
   ],
   "source": [
    "data.tail(3)"
   ]
  },
  {
   "cell_type": "code",
   "execution_count": 48,
   "metadata": {},
   "outputs": [
    {
     "data": {
      "text/plain": [
       "0                 Sai Naga Raju\n",
       "1                      R deepak\n",
       "2                 P K CHAITANYA\n",
       "3                    B SRIKANTH\n",
       "4              Himaja cherukuri\n",
       "5                 M.Geethanjali\n",
       "6                     M.Nikhita\n",
       "7              DASARI PAVAN SAI\n",
       "8                 B Jagan Mohan\n",
       "9             k.parameswara rao\n",
       "10             B.Ravindra kumar\n",
       "11          P.M.S.Bhargav Kumar\n",
       "12        Thatavarti kavya sree\n",
       "13                 Harish Bandi\n",
       "14       M.Bhavani Sankar Reddy\n",
       "15               Devendra Kumar\n",
       "16                      M.Ramya\n",
       "17              T.V.Naga Jyothi\n",
       "18               Ananda Lakshmi\n",
       "19                  K . krishna\n",
       "20         Md.Ali Asghar Khoyee\n",
       "21             G. Vineeth Kumar\n",
       "22    JAYA NAVEEN KUMAR DUPPATI\n",
       "23                     vikram S\n",
       "24              SAI TEJA JALADI\n",
       "25           SAIKUMAR MANIKONDA\n",
       "Name: Name, dtype: object"
      ]
     },
     "execution_count": 48,
     "metadata": {},
     "output_type": "execute_result"
    }
   ],
   "source": [
    "data['Name']"
   ]
  },
  {
   "cell_type": "code",
   "execution_count": 53,
   "metadata": {},
   "outputs": [
    {
     "data": {
      "text/plain": [
       "pandas.core.frame.DataFrame"
      ]
     },
     "execution_count": 53,
     "metadata": {},
     "output_type": "execute_result"
    }
   ],
   "source": [
    "data[['Name','MailId']]\n",
    "type(data[['Name','MailId']])"
   ]
  },
  {
   "cell_type": "code",
   "execution_count": 54,
   "metadata": {},
   "outputs": [
    {
     "data": {
      "text/plain": [
       "0     sainagarajusakhamuri99@gmail.com\n",
       "1               deepakrella9@gmail.com\n",
       "2                 chaitu1495@gmail.com\n",
       "3              srikanthbisai@gmail.com\n",
       "4            himajacherukuri@gmail.com\n",
       "5              geethamuppuri@gmail.com\n",
       "6               muvvanikhita@gmail.com\n",
       "7             pavandasari226@gmail.com\n",
       "8              bjaganmohan24@gmail.com\n",
       "9       parameshkarumuri1997@gmail.com\n",
       "10      ravindrakumarroyal12@gmail.com\n",
       "11       bhargavperumalla123@gmail.com\n",
       "12           kavyathatavarti@gmail.com\n",
       "13             harishbandi12@gmail.com\n",
       "14         bhavanisankar5758@gmail.com\n",
       "15            devendra108148@gmail.com\n",
       "16          ramya.marripoodi@gmail.com\n",
       "17              tvnagajyothi@gmail.com\n",
       "18           p.anandalakshmi@gmail.com\n",
       "19             saikamavarapu@gmail.com\n",
       "20               ali95asghar@gmail.com\n",
       "21               121822502016@gitam.in\n",
       "22         duppatijayanaveen@gmail.com\n",
       "23       vikramsabbavarapu60@gmail.com\n",
       "24         saitejajaladi2000@gmail.com\n",
       "25               saikumarm64@gmail.com\n",
       "Name: MailId, dtype: object"
      ]
     },
     "execution_count": 54,
     "metadata": {},
     "output_type": "execute_result"
    }
   ],
   "source": [
    "data['MailId']"
   ]
  },
  {
   "cell_type": "code",
   "execution_count": 56,
   "metadata": {},
   "outputs": [
    {
     "data": {
      "text/html": [
       "<div>\n",
       "<style scoped>\n",
       "    .dataframe tbody tr th:only-of-type {\n",
       "        vertical-align: middle;\n",
       "    }\n",
       "\n",
       "    .dataframe tbody tr th {\n",
       "        vertical-align: top;\n",
       "    }\n",
       "\n",
       "    .dataframe thead th {\n",
       "        text-align: right;\n",
       "    }\n",
       "</style>\n",
       "<table border=\"1\" class=\"dataframe\">\n",
       "  <thead>\n",
       "    <tr style=\"text-align: right;\">\n",
       "      <th></th>\n",
       "      <th>Timestamp</th>\n",
       "      <th>Name</th>\n",
       "      <th>MailId</th>\n",
       "      <th>Branch</th>\n",
       "      <th>Qualification</th>\n",
       "      <th>RollNumber</th>\n",
       "    </tr>\n",
       "  </thead>\n",
       "  <tbody>\n",
       "    <tr>\n",
       "      <th>17</th>\n",
       "      <td>30/01/2020 15:01:49</td>\n",
       "      <td>T.V.Naga Jyothi</td>\n",
       "      <td>tvnagajyothi@gmail.com</td>\n",
       "      <td>Information Technology</td>\n",
       "      <td>B.tech</td>\n",
       "      <td>161FA07049</td>\n",
       "    </tr>\n",
       "  </tbody>\n",
       "</table>\n",
       "</div>"
      ],
      "text/plain": [
       "              Timestamp             Name                  MailId  \\\n",
       "17  30/01/2020 15:01:49  T.V.Naga Jyothi  tvnagajyothi@gmail.com   \n",
       "\n",
       "                    Branch Qualification  RollNumber  \n",
       "17  Information Technology        B.tech  161FA07049  "
      ]
     },
     "execution_count": 56,
     "metadata": {},
     "output_type": "execute_result"
    }
   ],
   "source": [
    "data.sample()"
   ]
  },
  {
   "cell_type": "code",
   "execution_count": 60,
   "metadata": {},
   "outputs": [
    {
     "data": {
      "text/plain": [
       "26"
      ]
     },
     "execution_count": 60,
     "metadata": {},
     "output_type": "execute_result"
    }
   ],
   "source": [
    "data.shape[0]  #Total No of Rows"
   ]
  },
  {
   "cell_type": "code",
   "execution_count": 59,
   "metadata": {},
   "outputs": [
    {
     "data": {
      "text/plain": [
       "6"
      ]
     },
     "execution_count": 59,
     "metadata": {},
     "output_type": "execute_result"
    }
   ],
   "source": [
    "data.shape[1]  #Total no of columns"
   ]
  },
  {
   "cell_type": "code",
   "execution_count": 61,
   "metadata": {},
   "outputs": [
    {
     "data": {
      "text/plain": [
       "Index(['Timestamp', 'Name', 'MailId', 'Branch', 'Qualification', 'RollNumber'], dtype='object')"
      ]
     },
     "execution_count": 61,
     "metadata": {},
     "output_type": "execute_result"
    }
   ],
   "source": [
    "data.columns"
   ]
  },
  {
   "cell_type": "code",
   "execution_count": 62,
   "metadata": {},
   "outputs": [
    {
     "data": {
      "text/plain": [
       "RangeIndex(start=0, stop=26, step=1)"
      ]
     },
     "execution_count": 62,
     "metadata": {},
     "output_type": "execute_result"
    }
   ],
   "source": [
    "# To get the row labels\n",
    "data.index"
   ]
  },
  {
   "cell_type": "code",
   "execution_count": 63,
   "metadata": {},
   "outputs": [
    {
     "data": {
      "text/plain": [
       "Timestamp        object\n",
       "Name             object\n",
       "MailId           object\n",
       "Branch           object\n",
       "Qualification    object\n",
       "RollNumber       object\n",
       "dtype: object"
      ]
     },
     "execution_count": 63,
     "metadata": {},
     "output_type": "execute_result"
    }
   ],
   "source": [
    "data.dtypes  #DataTypes"
   ]
  },
  {
   "cell_type": "code",
   "execution_count": 64,
   "metadata": {},
   "outputs": [
    {
     "data": {
      "text/plain": [
       "pandas.core.series.Series"
      ]
     },
     "execution_count": 64,
     "metadata": {},
     "output_type": "execute_result"
    }
   ],
   "source": [
    "type(data.dtypes)"
   ]
  },
  {
   "cell_type": "code",
   "execution_count": 65,
   "metadata": {},
   "outputs": [
    {
     "data": {
      "text/plain": [
       "Timestamp        0\n",
       "Name             0\n",
       "MailId           0\n",
       "Branch           0\n",
       "Qualification    0\n",
       "RollNumber       0\n",
       "dtype: int64"
      ]
     },
     "execution_count": 65,
     "metadata": {},
     "output_type": "execute_result"
    }
   ],
   "source": [
    "data.isnull().sum()"
   ]
  },
  {
   "cell_type": "code",
   "execution_count": 69,
   "metadata": {},
   "outputs": [
    {
     "data": {
      "text/html": [
       "<div>\n",
       "<style scoped>\n",
       "    .dataframe tbody tr th:only-of-type {\n",
       "        vertical-align: middle;\n",
       "    }\n",
       "\n",
       "    .dataframe tbody tr th {\n",
       "        vertical-align: top;\n",
       "    }\n",
       "\n",
       "    .dataframe thead th {\n",
       "        text-align: right;\n",
       "    }\n",
       "</style>\n",
       "<table border=\"1\" class=\"dataframe\">\n",
       "  <thead>\n",
       "    <tr style=\"text-align: right;\">\n",
       "      <th></th>\n",
       "      <th>Timestamp,Name,MailId,Branch,Qualification,RollNumber</th>\n",
       "    </tr>\n",
       "  </thead>\n",
       "  <tbody>\n",
       "    <tr>\n",
       "      <th>0</th>\n",
       "      <td>30/01/2020 15:00:07,Sai Naga Raju,sainagarajus...</td>\n",
       "    </tr>\n",
       "    <tr>\n",
       "      <th>1</th>\n",
       "      <td>30/01/2020 15:00:20,R deepak,deepakrella9@gmai...</td>\n",
       "    </tr>\n",
       "    <tr>\n",
       "      <th>2</th>\n",
       "      <td>30/01/2020 15:00:23,P K CHAITANYA,chaitu1495@g...</td>\n",
       "    </tr>\n",
       "    <tr>\n",
       "      <th>3</th>\n",
       "      <td>30/01/2020 15:00:25,B SRIKANTH,srikanthbisai@g...</td>\n",
       "    </tr>\n",
       "    <tr>\n",
       "      <th>4</th>\n",
       "      <td>30/01/2020 15:00:28,Himaja cherukuri,himajache...</td>\n",
       "    </tr>\n",
       "    <tr>\n",
       "      <th>5</th>\n",
       "      <td>30/01/2020 15:00:28,M.Geethanjali,geethamuppur...</td>\n",
       "    </tr>\n",
       "    <tr>\n",
       "      <th>6</th>\n",
       "      <td>30/01/2020 15:00:33,M.Nikhita,muvvanikhita@gma...</td>\n",
       "    </tr>\n",
       "    <tr>\n",
       "      <th>7</th>\n",
       "      <td>30/01/2020 15:00:37,DASARI PAVAN SAI,pavandasa...</td>\n",
       "    </tr>\n",
       "    <tr>\n",
       "      <th>8</th>\n",
       "      <td>30/01/2020 15:00:39,B Jagan Mohan,bjaganmohan2...</td>\n",
       "    </tr>\n",
       "    <tr>\n",
       "      <th>9</th>\n",
       "      <td>30/01/2020 15:00:41,k.parameswara rao,paramesh...</td>\n",
       "    </tr>\n",
       "    <tr>\n",
       "      <th>10</th>\n",
       "      <td>30/01/2020 15:00:43,B.Ravindra kumar,ravindrak...</td>\n",
       "    </tr>\n",
       "    <tr>\n",
       "      <th>11</th>\n",
       "      <td>30/01/2020 15:00:44,P.M.S.Bhargav Kumar,bharga...</td>\n",
       "    </tr>\n",
       "    <tr>\n",
       "      <th>12</th>\n",
       "      <td>30/01/2020 15:00:45,Thatavarti kavya sree,kavy...</td>\n",
       "    </tr>\n",
       "    <tr>\n",
       "      <th>13</th>\n",
       "      <td>30/01/2020 15:01:10,Harish Bandi,harishbandi12...</td>\n",
       "    </tr>\n",
       "    <tr>\n",
       "      <th>14</th>\n",
       "      <td>30/01/2020 15:01:16,M.Bhavani Sankar Reddy,bha...</td>\n",
       "    </tr>\n",
       "    <tr>\n",
       "      <th>15</th>\n",
       "      <td>30/01/2020 15:01:24,Devendra Kumar,devendra108...</td>\n",
       "    </tr>\n",
       "    <tr>\n",
       "      <th>16</th>\n",
       "      <td>30/01/2020 15:01:35,M.Ramya,ramya.marripoodi@g...</td>\n",
       "    </tr>\n",
       "    <tr>\n",
       "      <th>17</th>\n",
       "      <td>30/01/2020 15:01:49,T.V.Naga Jyothi,tvnagajyot...</td>\n",
       "    </tr>\n",
       "    <tr>\n",
       "      <th>18</th>\n",
       "      <td>30/01/2020 15:01:50,Ananda Lakshmi,p.anandalak...</td>\n",
       "    </tr>\n",
       "    <tr>\n",
       "      <th>19</th>\n",
       "      <td>30/01/2020 15:01:56,K . krishna,saikamavarapu@...</td>\n",
       "    </tr>\n",
       "    <tr>\n",
       "      <th>20</th>\n",
       "      <td>30/01/2020 15:02:04,Md.Ali Asghar Khoyee,ali95...</td>\n",
       "    </tr>\n",
       "    <tr>\n",
       "      <th>21</th>\n",
       "      <td>30/01/2020 15:02:41,G. Vineeth Kumar,121822502...</td>\n",
       "    </tr>\n",
       "    <tr>\n",
       "      <th>22</th>\n",
       "      <td>30/01/2020 15:02:49,JAYA NAVEEN KUMAR DUPPATI,...</td>\n",
       "    </tr>\n",
       "    <tr>\n",
       "      <th>23</th>\n",
       "      <td>30/01/2020 15:02:59,vikram S,vikramsabbavarapu...</td>\n",
       "    </tr>\n",
       "    <tr>\n",
       "      <th>24</th>\n",
       "      <td>30/01/2020 15:04:10,SAI TEJA JALADI,saitejajal...</td>\n",
       "    </tr>\n",
       "    <tr>\n",
       "      <th>25</th>\n",
       "      <td>30/01/2020 15:07:38,SAIKUMAR MANIKONDA,saikuma...</td>\n",
       "    </tr>\n",
       "  </tbody>\n",
       "</table>\n",
       "</div>"
      ],
      "text/plain": [
       "   Timestamp,Name,MailId,Branch,Qualification,RollNumber\n",
       "0   30/01/2020 15:00:07,Sai Naga Raju,sainagarajus...   \n",
       "1   30/01/2020 15:00:20,R deepak,deepakrella9@gmai...   \n",
       "2   30/01/2020 15:00:23,P K CHAITANYA,chaitu1495@g...   \n",
       "3   30/01/2020 15:00:25,B SRIKANTH,srikanthbisai@g...   \n",
       "4   30/01/2020 15:00:28,Himaja cherukuri,himajache...   \n",
       "5   30/01/2020 15:00:28,M.Geethanjali,geethamuppur...   \n",
       "6   30/01/2020 15:00:33,M.Nikhita,muvvanikhita@gma...   \n",
       "7   30/01/2020 15:00:37,DASARI PAVAN SAI,pavandasa...   \n",
       "8   30/01/2020 15:00:39,B Jagan Mohan,bjaganmohan2...   \n",
       "9   30/01/2020 15:00:41,k.parameswara rao,paramesh...   \n",
       "10  30/01/2020 15:00:43,B.Ravindra kumar,ravindrak...   \n",
       "11  30/01/2020 15:00:44,P.M.S.Bhargav Kumar,bharga...   \n",
       "12  30/01/2020 15:00:45,Thatavarti kavya sree,kavy...   \n",
       "13  30/01/2020 15:01:10,Harish Bandi,harishbandi12...   \n",
       "14  30/01/2020 15:01:16,M.Bhavani Sankar Reddy,bha...   \n",
       "15  30/01/2020 15:01:24,Devendra Kumar,devendra108...   \n",
       "16  30/01/2020 15:01:35,M.Ramya,ramya.marripoodi@g...   \n",
       "17  30/01/2020 15:01:49,T.V.Naga Jyothi,tvnagajyot...   \n",
       "18  30/01/2020 15:01:50,Ananda Lakshmi,p.anandalak...   \n",
       "19  30/01/2020 15:01:56,K . krishna,saikamavarapu@...   \n",
       "20  30/01/2020 15:02:04,Md.Ali Asghar Khoyee,ali95...   \n",
       "21  30/01/2020 15:02:41,G. Vineeth Kumar,121822502...   \n",
       "22  30/01/2020 15:02:49,JAYA NAVEEN KUMAR DUPPATI,...   \n",
       "23  30/01/2020 15:02:59,vikram S,vikramsabbavarapu...   \n",
       "24  30/01/2020 15:04:10,SAI TEJA JALADI,saitejajal...   \n",
       "25  30/01/2020 15:07:38,SAIKUMAR MANIKONDA,saikuma...   "
      ]
     },
     "execution_count": 69,
     "metadata": {},
     "output_type": "execute_result"
    }
   ],
   "source": [
    "d=pd.read_csv('https://raw.githubusercontent.com/sumathi16/Machine-Learning-with-Python/master/data/Student%20Data%20ML%20Jan%20(Responses)%20-%20Form%20responses%201.csv',sep='\\t')\n",
    "d"
   ]
  },
  {
   "cell_type": "code",
   "execution_count": 71,
   "metadata": {},
   "outputs": [
    {
     "data": {
      "text/html": [
       "<div>\n",
       "<style scoped>\n",
       "    .dataframe tbody tr th:only-of-type {\n",
       "        vertical-align: middle;\n",
       "    }\n",
       "\n",
       "    .dataframe tbody tr th {\n",
       "        vertical-align: top;\n",
       "    }\n",
       "\n",
       "    .dataframe thead th {\n",
       "        text-align: right;\n",
       "    }\n",
       "</style>\n",
       "<table border=\"1\" class=\"dataframe\">\n",
       "  <thead>\n",
       "    <tr style=\"text-align: right;\">\n",
       "      <th></th>\n",
       "      <th>Timestamp</th>\n",
       "      <th>Name</th>\n",
       "      <th>MailId</th>\n",
       "      <th>Branch</th>\n",
       "      <th>Qualification</th>\n",
       "      <th>RollNumber</th>\n",
       "    </tr>\n",
       "  </thead>\n",
       "  <tbody>\n",
       "    <tr>\n",
       "      <th>0</th>\n",
       "      <td>2020-01-30 15:00:06.734</td>\n",
       "      <td>Sai Naga Raju</td>\n",
       "      <td>sainagarajusakhamuri99@gmail.com</td>\n",
       "      <td>IT</td>\n",
       "      <td>B.Tech</td>\n",
       "      <td>161FA07039</td>\n",
       "    </tr>\n",
       "    <tr>\n",
       "      <th>1</th>\n",
       "      <td>2020-01-30 15:00:19.555</td>\n",
       "      <td>R deepak</td>\n",
       "      <td>deepakrella9@gmail.com</td>\n",
       "      <td>MCA</td>\n",
       "      <td>PG</td>\n",
       "      <td>121722501019</td>\n",
       "    </tr>\n",
       "    <tr>\n",
       "      <th>2</th>\n",
       "      <td>2020-01-30 15:00:23.470</td>\n",
       "      <td>P K CHAITANYA</td>\n",
       "      <td>chaitu1495@gmail.com</td>\n",
       "      <td>MCA</td>\n",
       "      <td>PG</td>\n",
       "      <td>121722501015</td>\n",
       "    </tr>\n",
       "    <tr>\n",
       "      <th>3</th>\n",
       "      <td>2020-01-30 15:00:25.434</td>\n",
       "      <td>B SRIKANTH</td>\n",
       "      <td>srikanthbisai@gmail.com</td>\n",
       "      <td>MCA</td>\n",
       "      <td>PG</td>\n",
       "      <td>121722501002</td>\n",
       "    </tr>\n",
       "    <tr>\n",
       "      <th>4</th>\n",
       "      <td>2020-01-30 15:00:27.759</td>\n",
       "      <td>Himaja cherukuri</td>\n",
       "      <td>himajacherukuri@gmail.com</td>\n",
       "      <td>cse</td>\n",
       "      <td>BTech</td>\n",
       "      <td>161fa04079</td>\n",
       "    </tr>\n",
       "  </tbody>\n",
       "</table>\n",
       "</div>"
      ],
      "text/plain": [
       "                Timestamp              Name                            MailId  \\\n",
       "0 2020-01-30 15:00:06.734     Sai Naga Raju  sainagarajusakhamuri99@gmail.com   \n",
       "1 2020-01-30 15:00:19.555          R deepak            deepakrella9@gmail.com   \n",
       "2 2020-01-30 15:00:23.470     P K CHAITANYA              chaitu1495@gmail.com   \n",
       "3 2020-01-30 15:00:25.434        B SRIKANTH           srikanthbisai@gmail.com   \n",
       "4 2020-01-30 15:00:27.759  Himaja cherukuri         himajacherukuri@gmail.com   \n",
       "\n",
       "  Branch Qualification    RollNumber  \n",
       "0     IT        B.Tech    161FA07039  \n",
       "1    MCA            PG  121722501019  \n",
       "2    MCA            PG  121722501015  \n",
       "3    MCA            PG  121722501002  \n",
       "4    cse         BTech    161fa04079  "
      ]
     },
     "execution_count": 71,
     "metadata": {},
     "output_type": "execute_result"
    }
   ],
   "source": [
    "excel_data=pd.read_excel('Student Data ML Jan (Responses).xlsx')\n",
    "excel_data.head()"
   ]
  },
  {
   "cell_type": "markdown",
   "metadata": {},
   "source": [
    "- postion based Indexing --> iloc\n",
    "- Label Based Indexing"
   ]
  },
  {
   "cell_type": "code",
   "execution_count": 73,
   "metadata": {},
   "outputs": [
    {
     "data": {
      "text/plain": [
       "Timestamp                     30/01/2020 15:00:07\n",
       "Name                                Sai Naga Raju\n",
       "MailId           sainagarajusakhamuri99@gmail.com\n",
       "Branch                                         IT\n",
       "Qualification                              B.Tech\n",
       "RollNumber                             161FA07039\n",
       "Name: 0, dtype: object"
      ]
     },
     "execution_count": 73,
     "metadata": {},
     "output_type": "execute_result"
    }
   ],
   "source": [
    "data.iloc[0]"
   ]
  },
  {
   "cell_type": "code",
   "execution_count": 74,
   "metadata": {},
   "outputs": [
    {
     "data": {
      "text/html": [
       "<div>\n",
       "<style scoped>\n",
       "    .dataframe tbody tr th:only-of-type {\n",
       "        vertical-align: middle;\n",
       "    }\n",
       "\n",
       "    .dataframe tbody tr th {\n",
       "        vertical-align: top;\n",
       "    }\n",
       "\n",
       "    .dataframe thead th {\n",
       "        text-align: right;\n",
       "    }\n",
       "</style>\n",
       "<table border=\"1\" class=\"dataframe\">\n",
       "  <thead>\n",
       "    <tr style=\"text-align: right;\">\n",
       "      <th></th>\n",
       "      <th>Timestamp</th>\n",
       "      <th>Name</th>\n",
       "      <th>MailId</th>\n",
       "      <th>Branch</th>\n",
       "      <th>Qualification</th>\n",
       "      <th>RollNumber</th>\n",
       "    </tr>\n",
       "  </thead>\n",
       "  <tbody>\n",
       "    <tr>\n",
       "      <th>0</th>\n",
       "      <td>30/01/2020 15:00:07</td>\n",
       "      <td>Sai Naga Raju</td>\n",
       "      <td>sainagarajusakhamuri99@gmail.com</td>\n",
       "      <td>IT</td>\n",
       "      <td>B.Tech</td>\n",
       "      <td>161FA07039</td>\n",
       "    </tr>\n",
       "  </tbody>\n",
       "</table>\n",
       "</div>"
      ],
      "text/plain": [
       "             Timestamp           Name                            MailId  \\\n",
       "0  30/01/2020 15:00:07  Sai Naga Raju  sainagarajusakhamuri99@gmail.com   \n",
       "\n",
       "  Branch Qualification  RollNumber  \n",
       "0     IT        B.Tech  161FA07039  "
      ]
     },
     "execution_count": 74,
     "metadata": {},
     "output_type": "execute_result"
    }
   ],
   "source": [
    "data.iloc[0:1]"
   ]
  },
  {
   "cell_type": "code",
   "execution_count": 75,
   "metadata": {},
   "outputs": [
    {
     "data": {
      "text/html": [
       "<div>\n",
       "<style scoped>\n",
       "    .dataframe tbody tr th:only-of-type {\n",
       "        vertical-align: middle;\n",
       "    }\n",
       "\n",
       "    .dataframe tbody tr th {\n",
       "        vertical-align: top;\n",
       "    }\n",
       "\n",
       "    .dataframe thead th {\n",
       "        text-align: right;\n",
       "    }\n",
       "</style>\n",
       "<table border=\"1\" class=\"dataframe\">\n",
       "  <thead>\n",
       "    <tr style=\"text-align: right;\">\n",
       "      <th></th>\n",
       "      <th>Timestamp</th>\n",
       "      <th>Name</th>\n",
       "      <th>MailId</th>\n",
       "      <th>Branch</th>\n",
       "      <th>Qualification</th>\n",
       "      <th>RollNumber</th>\n",
       "    </tr>\n",
       "  </thead>\n",
       "  <tbody>\n",
       "    <tr>\n",
       "      <th>0</th>\n",
       "      <td>30/01/2020 15:00:07</td>\n",
       "      <td>Sai Naga Raju</td>\n",
       "      <td>sainagarajusakhamuri99@gmail.com</td>\n",
       "      <td>IT</td>\n",
       "      <td>B.Tech</td>\n",
       "      <td>161FA07039</td>\n",
       "    </tr>\n",
       "    <tr>\n",
       "      <th>2</th>\n",
       "      <td>30/01/2020 15:00:23</td>\n",
       "      <td>P K CHAITANYA</td>\n",
       "      <td>chaitu1495@gmail.com</td>\n",
       "      <td>MCA</td>\n",
       "      <td>PG</td>\n",
       "      <td>121722501015</td>\n",
       "    </tr>\n",
       "    <tr>\n",
       "      <th>4</th>\n",
       "      <td>30/01/2020 15:00:28</td>\n",
       "      <td>Himaja cherukuri</td>\n",
       "      <td>himajacherukuri@gmail.com</td>\n",
       "      <td>cse</td>\n",
       "      <td>BTech</td>\n",
       "      <td>161fa04079</td>\n",
       "    </tr>\n",
       "  </tbody>\n",
       "</table>\n",
       "</div>"
      ],
      "text/plain": [
       "             Timestamp              Name                            MailId  \\\n",
       "0  30/01/2020 15:00:07     Sai Naga Raju  sainagarajusakhamuri99@gmail.com   \n",
       "2  30/01/2020 15:00:23     P K CHAITANYA              chaitu1495@gmail.com   \n",
       "4  30/01/2020 15:00:28  Himaja cherukuri         himajacherukuri@gmail.com   \n",
       "\n",
       "  Branch Qualification    RollNumber  \n",
       "0     IT        B.Tech    161FA07039  \n",
       "2    MCA            PG  121722501015  \n",
       "4    cse         BTech    161fa04079  "
      ]
     },
     "execution_count": 75,
     "metadata": {},
     "output_type": "execute_result"
    }
   ],
   "source": [
    "data.iloc[0:6:2]"
   ]
  },
  {
   "cell_type": "code",
   "execution_count": 76,
   "metadata": {},
   "outputs": [
    {
     "data": {
      "text/html": [
       "<div>\n",
       "<style scoped>\n",
       "    .dataframe tbody tr th:only-of-type {\n",
       "        vertical-align: middle;\n",
       "    }\n",
       "\n",
       "    .dataframe tbody tr th {\n",
       "        vertical-align: top;\n",
       "    }\n",
       "\n",
       "    .dataframe thead th {\n",
       "        text-align: right;\n",
       "    }\n",
       "</style>\n",
       "<table border=\"1\" class=\"dataframe\">\n",
       "  <thead>\n",
       "    <tr style=\"text-align: right;\">\n",
       "      <th></th>\n",
       "      <th>Name</th>\n",
       "      <th>MailId</th>\n",
       "    </tr>\n",
       "  </thead>\n",
       "  <tbody>\n",
       "    <tr>\n",
       "      <th>0</th>\n",
       "      <td>Sai Naga Raju</td>\n",
       "      <td>sainagarajusakhamuri99@gmail.com</td>\n",
       "    </tr>\n",
       "    <tr>\n",
       "      <th>2</th>\n",
       "      <td>P K CHAITANYA</td>\n",
       "      <td>chaitu1495@gmail.com</td>\n",
       "    </tr>\n",
       "    <tr>\n",
       "      <th>4</th>\n",
       "      <td>Himaja cherukuri</td>\n",
       "      <td>himajacherukuri@gmail.com</td>\n",
       "    </tr>\n",
       "  </tbody>\n",
       "</table>\n",
       "</div>"
      ],
      "text/plain": [
       "               Name                            MailId\n",
       "0     Sai Naga Raju  sainagarajusakhamuri99@gmail.com\n",
       "2     P K CHAITANYA              chaitu1495@gmail.com\n",
       "4  Himaja cherukuri         himajacherukuri@gmail.com"
      ]
     },
     "execution_count": 76,
     "metadata": {},
     "output_type": "execute_result"
    }
   ],
   "source": [
    "data.iloc[0:6:2,1:3]"
   ]
  },
  {
   "cell_type": "code",
   "execution_count": 87,
   "metadata": {},
   "outputs": [
    {
     "data": {
      "text/html": [
       "<div>\n",
       "<style scoped>\n",
       "    .dataframe tbody tr th:only-of-type {\n",
       "        vertical-align: middle;\n",
       "    }\n",
       "\n",
       "    .dataframe tbody tr th {\n",
       "        vertical-align: top;\n",
       "    }\n",
       "\n",
       "    .dataframe thead th {\n",
       "        text-align: right;\n",
       "    }\n",
       "</style>\n",
       "<table border=\"1\" class=\"dataframe\">\n",
       "  <thead>\n",
       "    <tr style=\"text-align: right;\">\n",
       "      <th></th>\n",
       "      <th>Qualification</th>\n",
       "      <th>RollNumber</th>\n",
       "    </tr>\n",
       "  </thead>\n",
       "  <tbody>\n",
       "    <tr>\n",
       "      <th>24</th>\n",
       "      <td>B.TECH</td>\n",
       "      <td>161FA07025</td>\n",
       "    </tr>\n",
       "    <tr>\n",
       "      <th>25</th>\n",
       "      <td>B.E</td>\n",
       "      <td>245112769310</td>\n",
       "    </tr>\n",
       "  </tbody>\n",
       "</table>\n",
       "</div>"
      ],
      "text/plain": [
       "   Qualification    RollNumber\n",
       "24        B.TECH    161FA07025\n",
       "25           B.E  245112769310"
      ]
     },
     "execution_count": 87,
     "metadata": {},
     "output_type": "execute_result"
    }
   ],
   "source": [
    "data.iloc[-2:,-2:]   #For last two rows and last two columns"
   ]
  },
  {
   "cell_type": "code",
   "execution_count": 91,
   "metadata": {},
   "outputs": [
    {
     "data": {
      "text/html": [
       "<div>\n",
       "<style scoped>\n",
       "    .dataframe tbody tr th:only-of-type {\n",
       "        vertical-align: middle;\n",
       "    }\n",
       "\n",
       "    .dataframe tbody tr th {\n",
       "        vertical-align: top;\n",
       "    }\n",
       "\n",
       "    .dataframe thead th {\n",
       "        text-align: right;\n",
       "    }\n",
       "</style>\n",
       "<table border=\"1\" class=\"dataframe\">\n",
       "  <thead>\n",
       "    <tr style=\"text-align: right;\">\n",
       "      <th></th>\n",
       "      <th>Branch</th>\n",
       "      <th>Qualification</th>\n",
       "      <th>RollNumber</th>\n",
       "    </tr>\n",
       "  </thead>\n",
       "  <tbody>\n",
       "    <tr>\n",
       "      <th>7</th>\n",
       "      <td>Information Technology</td>\n",
       "      <td>B.Tech</td>\n",
       "      <td>161FA07042</td>\n",
       "    </tr>\n",
       "    <tr>\n",
       "      <th>11</th>\n",
       "      <td>Computer Science</td>\n",
       "      <td>MCA</td>\n",
       "      <td>121722501026</td>\n",
       "    </tr>\n",
       "    <tr>\n",
       "      <th>15</th>\n",
       "      <td>ECE</td>\n",
       "      <td>B.Tech</td>\n",
       "      <td>14F41A0461</td>\n",
       "    </tr>\n",
       "  </tbody>\n",
       "</table>\n",
       "</div>"
      ],
      "text/plain": [
       "                    Branch Qualification    RollNumber\n",
       "7   Information Technology        B.Tech    161FA07042\n",
       "11        Computer Science           MCA  121722501026\n",
       "15                     ECE        B.Tech    14F41A0461"
      ]
     },
     "execution_count": 91,
     "metadata": {},
     "output_type": "execute_result"
    }
   ],
   "source": [
    "#rows(7,11,15)\n",
    "#columns()last 3\n",
    "data.iloc[7:16:4,-3:]"
   ]
  },
  {
   "cell_type": "code",
   "execution_count": 93,
   "metadata": {},
   "outputs": [
    {
     "data": {
      "text/html": [
       "<div>\n",
       "<style scoped>\n",
       "    .dataframe tbody tr th:only-of-type {\n",
       "        vertical-align: middle;\n",
       "    }\n",
       "\n",
       "    .dataframe tbody tr th {\n",
       "        vertical-align: top;\n",
       "    }\n",
       "\n",
       "    .dataframe thead th {\n",
       "        text-align: right;\n",
       "    }\n",
       "</style>\n",
       "<table border=\"1\" class=\"dataframe\">\n",
       "  <thead>\n",
       "    <tr style=\"text-align: right;\">\n",
       "      <th></th>\n",
       "      <th>Timestamp</th>\n",
       "      <th>Name</th>\n",
       "      <th>MailId</th>\n",
       "      <th>Branch</th>\n",
       "      <th>Qualification</th>\n",
       "      <th>RollNumber</th>\n",
       "    </tr>\n",
       "  </thead>\n",
       "  <tbody>\n",
       "    <tr>\n",
       "      <th>0</th>\n",
       "      <td>30/01/2020 15:00:07</td>\n",
       "      <td>Sai Naga Raju</td>\n",
       "      <td>sainagarajusakhamuri99@gmail.com</td>\n",
       "      <td>IT</td>\n",
       "      <td>B.Tech</td>\n",
       "      <td>161FA07039</td>\n",
       "    </tr>\n",
       "    <tr>\n",
       "      <th>1</th>\n",
       "      <td>30/01/2020 15:00:20</td>\n",
       "      <td>R deepak</td>\n",
       "      <td>deepakrella9@gmail.com</td>\n",
       "      <td>MCA</td>\n",
       "      <td>PG</td>\n",
       "      <td>121722501019</td>\n",
       "    </tr>\n",
       "  </tbody>\n",
       "</table>\n",
       "</div>"
      ],
      "text/plain": [
       "             Timestamp           Name                            MailId  \\\n",
       "0  30/01/2020 15:00:07  Sai Naga Raju  sainagarajusakhamuri99@gmail.com   \n",
       "1  30/01/2020 15:00:20       R deepak            deepakrella9@gmail.com   \n",
       "\n",
       "  Branch Qualification    RollNumber  \n",
       "0     IT        B.Tech    161FA07039  \n",
       "1    MCA            PG  121722501019  "
      ]
     },
     "execution_count": 93,
     "metadata": {},
     "output_type": "execute_result"
    }
   ],
   "source": [
    "data.loc[0:1]  #If we use loc both values are inclusive\n",
    "               #If we use iloc stop value is exclusive"
   ]
  },
  {
   "cell_type": "code",
   "execution_count": 95,
   "metadata": {},
   "outputs": [
    {
     "data": {
      "text/html": [
       "<div>\n",
       "<style scoped>\n",
       "    .dataframe tbody tr th:only-of-type {\n",
       "        vertical-align: middle;\n",
       "    }\n",
       "\n",
       "    .dataframe tbody tr th {\n",
       "        vertical-align: top;\n",
       "    }\n",
       "\n",
       "    .dataframe thead th {\n",
       "        text-align: right;\n",
       "    }\n",
       "</style>\n",
       "<table border=\"1\" class=\"dataframe\">\n",
       "  <thead>\n",
       "    <tr style=\"text-align: right;\">\n",
       "      <th></th>\n",
       "      <th>Timestamp</th>\n",
       "      <th>Name</th>\n",
       "      <th>MailId</th>\n",
       "      <th>Branch</th>\n",
       "      <th>Qualification</th>\n",
       "      <th>RollNumber</th>\n",
       "    </tr>\n",
       "  </thead>\n",
       "  <tbody>\n",
       "    <tr>\n",
       "      <th>0</th>\n",
       "      <td>30/01/2020 15:00:07</td>\n",
       "      <td>Sai Naga Raju</td>\n",
       "      <td>sainagarajusakhamuri99@gmail.com</td>\n",
       "      <td>IT</td>\n",
       "      <td>B.Tech</td>\n",
       "      <td>161FA07039</td>\n",
       "    </tr>\n",
       "    <tr>\n",
       "      <th>2</th>\n",
       "      <td>30/01/2020 15:00:23</td>\n",
       "      <td>P K CHAITANYA</td>\n",
       "      <td>chaitu1495@gmail.com</td>\n",
       "      <td>MCA</td>\n",
       "      <td>PG</td>\n",
       "      <td>121722501015</td>\n",
       "    </tr>\n",
       "    <tr>\n",
       "      <th>4</th>\n",
       "      <td>30/01/2020 15:00:28</td>\n",
       "      <td>Himaja cherukuri</td>\n",
       "      <td>himajacherukuri@gmail.com</td>\n",
       "      <td>cse</td>\n",
       "      <td>BTech</td>\n",
       "      <td>161fa04079</td>\n",
       "    </tr>\n",
       "    <tr>\n",
       "      <th>6</th>\n",
       "      <td>30/01/2020 15:00:33</td>\n",
       "      <td>M.Nikhita</td>\n",
       "      <td>muvvanikhita@gmail.com</td>\n",
       "      <td>CSE</td>\n",
       "      <td>B.Tech</td>\n",
       "      <td>161FA04106</td>\n",
       "    </tr>\n",
       "    <tr>\n",
       "      <th>8</th>\n",
       "      <td>30/01/2020 15:00:39</td>\n",
       "      <td>B Jagan Mohan</td>\n",
       "      <td>bjaganmohan24@gmail.com</td>\n",
       "      <td>Data Science</td>\n",
       "      <td>M.sc</td>\n",
       "      <td>121822502015</td>\n",
       "    </tr>\n",
       "    <tr>\n",
       "      <th>10</th>\n",
       "      <td>30/01/2020 15:00:43</td>\n",
       "      <td>B.Ravindra kumar</td>\n",
       "      <td>ravindrakumarroyal12@gmail.com</td>\n",
       "      <td>DataScience</td>\n",
       "      <td>Msc</td>\n",
       "      <td>121822502017</td>\n",
       "    </tr>\n",
       "    <tr>\n",
       "      <th>12</th>\n",
       "      <td>30/01/2020 15:00:45</td>\n",
       "      <td>Thatavarti kavya sree</td>\n",
       "      <td>kavyathatavarti@gmail.com</td>\n",
       "      <td>IT</td>\n",
       "      <td>B.Tech</td>\n",
       "      <td>161FA07050</td>\n",
       "    </tr>\n",
       "    <tr>\n",
       "      <th>14</th>\n",
       "      <td>30/01/2020 15:01:16</td>\n",
       "      <td>M.Bhavani Sankar Reddy</td>\n",
       "      <td>bhavanisankar5758@gmail.com</td>\n",
       "      <td>Data Science</td>\n",
       "      <td>MSc</td>\n",
       "      <td>121822502018</td>\n",
       "    </tr>\n",
       "    <tr>\n",
       "      <th>16</th>\n",
       "      <td>30/01/2020 15:01:35</td>\n",
       "      <td>M.Ramya</td>\n",
       "      <td>ramya.marripoodi@gmail.com</td>\n",
       "      <td>Information Technology</td>\n",
       "      <td>B.Tech</td>\n",
       "      <td>161FA07002</td>\n",
       "    </tr>\n",
       "    <tr>\n",
       "      <th>18</th>\n",
       "      <td>30/01/2020 15:01:50</td>\n",
       "      <td>Ananda Lakshmi</td>\n",
       "      <td>p.anandalakshmi@gmail.com</td>\n",
       "      <td>b com(computers)</td>\n",
       "      <td>degree</td>\n",
       "      <td>y167189053</td>\n",
       "    </tr>\n",
       "    <tr>\n",
       "      <th>20</th>\n",
       "      <td>30/01/2020 15:02:04</td>\n",
       "      <td>Md.Ali Asghar Khoyee</td>\n",
       "      <td>ali95asghar@gmail.com</td>\n",
       "      <td>Computer Science</td>\n",
       "      <td>MCA</td>\n",
       "      <td>121722501013</td>\n",
       "    </tr>\n",
       "    <tr>\n",
       "      <th>22</th>\n",
       "      <td>30/01/2020 15:02:49</td>\n",
       "      <td>JAYA NAVEEN KUMAR DUPPATI</td>\n",
       "      <td>duppatijayanaveen@gmail.com</td>\n",
       "      <td>I.T</td>\n",
       "      <td>B.TECH</td>\n",
       "      <td>161FA07012</td>\n",
       "    </tr>\n",
       "    <tr>\n",
       "      <th>24</th>\n",
       "      <td>30/01/2020 15:04:10</td>\n",
       "      <td>SAI TEJA JALADI</td>\n",
       "      <td>saitejajaladi2000@gmail.com</td>\n",
       "      <td>I.T</td>\n",
       "      <td>B.TECH</td>\n",
       "      <td>161FA07025</td>\n",
       "    </tr>\n",
       "  </tbody>\n",
       "</table>\n",
       "</div>"
      ],
      "text/plain": [
       "              Timestamp                       Name  \\\n",
       "0   30/01/2020 15:00:07              Sai Naga Raju   \n",
       "2   30/01/2020 15:00:23              P K CHAITANYA   \n",
       "4   30/01/2020 15:00:28           Himaja cherukuri   \n",
       "6   30/01/2020 15:00:33                  M.Nikhita   \n",
       "8   30/01/2020 15:00:39              B Jagan Mohan   \n",
       "10  30/01/2020 15:00:43           B.Ravindra kumar   \n",
       "12  30/01/2020 15:00:45      Thatavarti kavya sree   \n",
       "14  30/01/2020 15:01:16     M.Bhavani Sankar Reddy   \n",
       "16  30/01/2020 15:01:35                    M.Ramya   \n",
       "18  30/01/2020 15:01:50             Ananda Lakshmi   \n",
       "20  30/01/2020 15:02:04       Md.Ali Asghar Khoyee   \n",
       "22  30/01/2020 15:02:49  JAYA NAVEEN KUMAR DUPPATI   \n",
       "24  30/01/2020 15:04:10            SAI TEJA JALADI   \n",
       "\n",
       "                              MailId                  Branch Qualification  \\\n",
       "0   sainagarajusakhamuri99@gmail.com                      IT        B.Tech   \n",
       "2               chaitu1495@gmail.com                     MCA            PG   \n",
       "4          himajacherukuri@gmail.com                     cse         BTech   \n",
       "6             muvvanikhita@gmail.com                     CSE        B.Tech   \n",
       "8            bjaganmohan24@gmail.com            Data Science          M.sc   \n",
       "10    ravindrakumarroyal12@gmail.com             DataScience           Msc   \n",
       "12         kavyathatavarti@gmail.com                      IT        B.Tech   \n",
       "14       bhavanisankar5758@gmail.com            Data Science           MSc   \n",
       "16        ramya.marripoodi@gmail.com  Information Technology        B.Tech   \n",
       "18         p.anandalakshmi@gmail.com        b com(computers)        degree   \n",
       "20             ali95asghar@gmail.com        Computer Science           MCA   \n",
       "22       duppatijayanaveen@gmail.com                     I.T        B.TECH   \n",
       "24       saitejajaladi2000@gmail.com                     I.T        B.TECH   \n",
       "\n",
       "      RollNumber  \n",
       "0     161FA07039  \n",
       "2   121722501015  \n",
       "4     161fa04079  \n",
       "6     161FA04106  \n",
       "8   121822502015  \n",
       "10  121822502017  \n",
       "12    161FA07050  \n",
       "14  121822502018  \n",
       "16    161FA07002  \n",
       "18    y167189053  \n",
       "20  121722501013  \n",
       "22    161FA07012  \n",
       "24    161FA07025  "
      ]
     },
     "execution_count": 95,
     "metadata": {},
     "output_type": "execute_result"
    }
   ],
   "source": [
    "data.loc[0:25:2] #For obtaining even data"
   ]
  },
  {
   "cell_type": "code",
   "execution_count": 113,
   "metadata": {},
   "outputs": [
    {
     "data": {
      "text/html": [
       "<div>\n",
       "<style scoped>\n",
       "    .dataframe tbody tr th:only-of-type {\n",
       "        vertical-align: middle;\n",
       "    }\n",
       "\n",
       "    .dataframe tbody tr th {\n",
       "        vertical-align: top;\n",
       "    }\n",
       "\n",
       "    .dataframe thead th {\n",
       "        text-align: right;\n",
       "    }\n",
       "</style>\n",
       "<table border=\"1\" class=\"dataframe\">\n",
       "  <thead>\n",
       "    <tr style=\"text-align: right;\">\n",
       "      <th></th>\n",
       "      <th>Qualification</th>\n",
       "      <th>RollNumber</th>\n",
       "    </tr>\n",
       "  </thead>\n",
       "  <tbody>\n",
       "    <tr>\n",
       "      <th>25</th>\n",
       "      <td>B.E</td>\n",
       "      <td>245112769310</td>\n",
       "    </tr>\n",
       "    <tr>\n",
       "      <th>24</th>\n",
       "      <td>B.TECH</td>\n",
       "      <td>161FA07025</td>\n",
       "    </tr>\n",
       "  </tbody>\n",
       "</table>\n",
       "</div>"
      ],
      "text/plain": [
       "   Qualification    RollNumber\n",
       "25           B.E  245112769310\n",
       "24        B.TECH    161FA07025"
      ]
     },
     "execution_count": 113,
     "metadata": {},
     "output_type": "execute_result"
    }
   ],
   "source": [
    "data.loc[25:24:-1,'Qualification':'RollNumber']"
   ]
  },
  {
   "cell_type": "code",
   "execution_count": null,
   "metadata": {},
   "outputs": [],
   "source": []
  }
 ],
 "metadata": {
  "kernelspec": {
   "display_name": "Python 3",
   "language": "python",
   "name": "python3"
  },
  "language_info": {
   "codemirror_mode": {
    "name": "ipython",
    "version": 3
   },
   "file_extension": ".py",
   "mimetype": "text/x-python",
   "name": "python",
   "nbconvert_exporter": "python",
   "pygments_lexer": "ipython3",
   "version": "3.6.5"
  }
 },
 "nbformat": 4,
 "nbformat_minor": 2
}
