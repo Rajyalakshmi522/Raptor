{
 "cells": [
  {
   "cell_type": "code",
   "execution_count": 1,
   "metadata": {},
   "outputs": [
    {
     "name": "stdout",
     "output_type": "stream",
     "text": [
      "[['a', 'b', 'c'], ['d', 'e', 'f'], ['g', 'h', 'i']]\n"
     ]
    }
   ],
   "source": [
    "a=['abc','def','ghi']\n",
    "l=[]\n",
    "for i in range(len(a)):\n",
    "    x=a[i].split()\n",
    "    for j in range(len(x)):\n",
    "        y=list(x[j])\n",
    "    l.append(y)\n",
    "print(l)"
   ]
  },
  {
   "cell_type": "code",
   "execution_count": null,
   "metadata": {},
   "outputs": [],
   "source": []
  },
  {
   "cell_type": "markdown",
   "metadata": {},
   "source": [
    "### Program to concatenate the dictionaries"
   ]
  },
  {
   "cell_type": "code",
   "execution_count": 11,
   "metadata": {},
   "outputs": [
    {
     "name": "stdout",
     "output_type": "stream",
     "text": [
      "{1: 10, 2: 20, 3: 30, 4: 40, 5: 50, 6: 60}\n"
     ]
    }
   ],
   "source": [
    "d1={1:10,2:20}\n",
    "d2={3:30,4:40}\n",
    "d3={5:50,6:60}\n",
    "d1.update(d2)\n",
    "d1.update(d3)\n",
    "print(d1)"
   ]
  },
  {
   "cell_type": "markdown",
   "metadata": {},
   "source": [
    "### To check if given key exist or not"
   ]
  },
  {
   "cell_type": "code",
   "execution_count": 15,
   "metadata": {},
   "outputs": [
    {
     "name": "stdout",
     "output_type": "stream",
     "text": [
      "Enter Key9\n",
      "Key doesn't exists\n"
     ]
    }
   ],
   "source": [
    "d={1:10,2:20,3:30,4:40,5:50,6:60}\n",
    "k=int(input(\"Enter Key\"))\n",
    "if k in d.keys():\n",
    "    print(\"key Exists\")\n",
    "else:\n",
    "    print(\"Key doesn't exists\")"
   ]
  },
  {
   "cell_type": "code",
   "execution_count": 6,
   "metadata": {},
   "outputs": [
    {
     "name": "stdout",
     "output_type": "stream",
     "text": [
      "40\n",
      "50\n",
      "60\n"
     ]
    }
   ],
   "source": [
    "d={1:10,2:20,3:30,4:40,5:50,6:60}\n",
    "l=list(d.values())\n",
    "sorted(l,reverse=True)\n",
    "t=0\n",
    "for i in range(3,len(l)):\n",
    "    if t<l[i]:\n",
    "        t=l[i]\n",
    "    print(t)\n",
    "    "
   ]
  },
  {
   "cell_type": "code",
   "execution_count": 11,
   "metadata": {},
   "outputs": [
    {
     "name": "stdout",
     "output_type": "stream",
     "text": [
      "135\n",
      "One\n",
      "Three\n",
      "Five\n"
     ]
    }
   ],
   "source": [
    "n=int(input())\n",
    "l=list(map(int,str(n)))\n",
    "for i in l:\n",
    "    if i==0:\n",
    "        print('Zero')\n",
    "    elif i==1:\n",
    "        print('One')\n",
    "    elif i==2:\n",
    "        print('Two')\n",
    "    elif i==3:\n",
    "        print('Three')\n",
    "    elif i==4:\n",
    "        print('Four')\n",
    "    elif i==5:\n",
    "        print('Five')\n",
    "    elif i==6:\n",
    "        print('Six')\n",
    "    elif i==7:\n",
    "        print('Seven')\n",
    "    elif i==8:\n",
    "        print('Eight')\n",
    "    else:\n",
    "        print('Nine')\n"
   ]
  },
  {
   "cell_type": "code",
   "execution_count": 1,
   "metadata": {},
   "outputs": [
    {
     "name": "stdout",
     "output_type": "stream",
     "text": [
      "[1, 2, 3]\n"
     ]
    }
   ],
   "source": [
    "n=123\n",
    "l=list(map(int,str(n)))\n",
    "print(l)"
   ]
  },
  {
   "cell_type": "code",
   "execution_count": 27,
   "metadata": {},
   "outputs": [
    {
     "name": "stdout",
     "output_type": "stream",
     "text": [
      "[[1, 2, 3, 4, 5, 6], [7, 8, 9, 10, 11, 12]]\n"
     ]
    }
   ],
   "source": [
    "l=[1,2,3,4,5,6,7,8,9,10,11,12]\n",
    "def divide_chunks(l, n):\n",
    "    for i in range(0, len(l), n):  \n",
    "        yield l[i:i + n]\n",
    "for i in range(2,10):\n",
    "    if i!=1 and len(l)%i==0:\n",
    "        n = i\n",
    "        i=i+1\n",
    "\n",
    "x = list(divide_chunks(l, n))\n",
    "print (x) \n"
   ]
  },
  {
   "cell_type": "code",
   "execution_count": null,
   "metadata": {},
   "outputs": [
    {
     "name": "stdout",
     "output_type": "stream",
     "text": [
      "123\n"
     ]
    }
   ],
   "source": [
    "n=int(input())\n",
    "x=n\n",
    "l=list(map(int,str(n)))\n",
    "f=1\n",
    "for i in range(len(l)):\n",
    "    while(l[i]>0):\n",
    "        f=f*i\n",
    "    i=i+1\n",
    "print(f)"
   ]
  },
  {
   "cell_type": "code",
   "execution_count": 2,
   "metadata": {},
   "outputs": [
    {
     "name": "stdout",
     "output_type": "stream",
     "text": [
      "1880\n",
      "16\n"
     ]
    }
   ],
   "source": [
    "n=int(input())\n",
    "l=list(map(int,str(n)))\n",
    "s=0\n",
    "for i in l:\n",
    "    if i%2==0:\n",
    "        s=s+i\n",
    "print(s)"
   ]
  },
  {
   "cell_type": "code",
   "execution_count": null,
   "metadata": {},
   "outputs": [],
   "source": []
  }
 ],
 "metadata": {
  "kernelspec": {
   "display_name": "Python 3",
   "language": "python",
   "name": "python3"
  },
  "language_info": {
   "codemirror_mode": {
    "name": "ipython",
    "version": 3
   },
   "file_extension": ".py",
   "mimetype": "text/x-python",
   "name": "python",
   "nbconvert_exporter": "python",
   "pygments_lexer": "ipython3",
   "version": "3.6.5"
  }
 },
 "nbformat": 4,
 "nbformat_minor": 2
}
