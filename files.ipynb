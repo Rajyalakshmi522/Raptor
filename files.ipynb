{
 "cells": [
  {
   "cell_type": "markdown",
   "metadata": {},
   "source": [
    "### Files\n",
    "- write the file data\n",
    "- apppend the file data\n",
    "- read the file data\n",
    "- word count\n",
    "- character count\n",
    "- some specific examples on characters and words\n",
    "\n",
    "\n",
    "- File Modes\n",
    "    - w(If file not exists,it will create file and put some data in it)\n",
    "       (If file already exists then it rewrites existing file data)\n",
    "    - a(If file is not exist then it will craete file and data will return)\n",
    "        (If file already exists then the data eill return from lastline\n",
    "    - r(used to read the file data)"
   ]
  },
  {
   "cell_type": "code",
   "execution_count": 8,
   "metadata": {},
   "outputs": [
    {
     "name": "stdout",
     "output_type": "stream",
     "text": [
      "file is created & data has written into it\n"
     ]
    }
   ],
   "source": [
    "def createFile(fileName):\n",
    "    f=open(fileName,'w')\n",
    "    for i in range(10):\n",
    "        f.write('this line\\n')\n",
    "        #print(\"this is\",i,\"line\")\n",
    "    print(\"file is created & data has written into it\")\n",
    "    return\n",
    "createFile('file1.txt')\n"
   ]
  },
  {
   "cell_type": "code",
   "execution_count": 7,
   "metadata": {},
   "outputs": [
    {
     "data": {
      "text/plain": [
       "'C:\\\\Users\\\\subba'"
      ]
     },
     "execution_count": 7,
     "metadata": {},
     "output_type": "execute_result"
    }
   ],
   "source": [
    "pwd"
   ]
  },
  {
   "cell_type": "code",
   "execution_count": 30,
   "metadata": {},
   "outputs": [],
   "source": [
    "def testFileData(fileName):\n",
    "    f=open(fileName,'w')\n",
    "    f.write(\"New Data is New Line\")\n",
    "    return\n",
    "testFileData('file1.txt')"
   ]
  },
  {
   "cell_type": "code",
   "execution_count": 12,
   "metadata": {},
   "outputs": [
    {
     "name": "stdout",
     "output_type": "stream",
     "text": [
      "Data is appended\n"
     ]
    }
   ],
   "source": [
    "def appendData(fileName):\n",
    "    f=open(fileName,'a')\n",
    "    f.write(\"\\nnew line data\")\n",
    "    print(\"Data is appended\")\n",
    "    return\n",
    "appendData('file1.txt')"
   ]
  },
  {
   "cell_type": "code",
   "execution_count": 13,
   "metadata": {},
   "outputs": [
    {
     "name": "stdout",
     "output_type": "stream",
     "text": [
      "new datanew line data\n",
      "new line data\n",
      "new line data\n"
     ]
    }
   ],
   "source": [
    "def readFileData(fileName):\n",
    "    f=open(fileName,'r')\n",
    "    if f.mode=='r':\n",
    "        x=f.read()#var string\n",
    "        print(x)\n",
    "    else:\n",
    "        print(\"Error message\")\n",
    "    return\n",
    "readFileData('file1.txt')"
   ]
  },
  {
   "cell_type": "markdown",
   "metadata": {},
   "source": [
    "### word count"
   ]
  },
  {
   "cell_type": "code",
   "execution_count": 18,
   "metadata": {},
   "outputs": [
    {
     "data": {
      "text/plain": [
       "10"
      ]
     },
     "execution_count": 18,
     "metadata": {},
     "output_type": "execute_result"
    }
   ],
   "source": [
    "def wordCount(fileName):\n",
    "    l=[]\n",
    "    f=open(fileName,'r')\n",
    "    #with open(fileName,mode) as f:\n",
    "    if f.mode=='r':\n",
    "        x=f.read()\n",
    "        l=x.split()  \n",
    "    return len(l)\n",
    "wordCount('file1.txt')"
   ]
  },
  {
   "cell_type": "code",
   "execution_count": 17,
   "metadata": {},
   "outputs": [
    {
     "name": "stdout",
     "output_type": "stream",
     "text": [
      "4\n"
     ]
    }
   ],
   "source": [
    "l=[]\n",
    "s='dhyanahita org pragathi nagar'\n",
    "l=s.split(' ')\n",
    "print(len(l))"
   ]
  },
  {
   "cell_type": "code",
   "execution_count": 19,
   "metadata": {},
   "outputs": [
    {
     "data": {
      "text/plain": [
       "3"
      ]
     },
     "execution_count": 19,
     "metadata": {},
     "output_type": "execute_result"
    }
   ],
   "source": [
    "def specificWordCount(fileName,word):\n",
    "    l=[]\n",
    "    f=open(fileName,'r')\n",
    "    if f.mode=='r':\n",
    "        x=f.read()\n",
    "        l=x.split()\n",
    "    count=l.count(word)\n",
    "    return count\n",
    "specificWordCount('file1.txt','line')"
   ]
  },
  {
   "cell_type": "code",
   "execution_count": 27,
   "metadata": {},
   "outputs": [
    {
     "data": {
      "text/plain": [
       "4"
      ]
     },
     "execution_count": 27,
     "metadata": {},
     "output_type": "execute_result"
    }
   ],
   "source": [
    "def whiteSpacesCount(fileName):\n",
    "    l=[]\n",
    "    f=open(fileName,'r')\n",
    "    #with open(fileName,mode) as f:\n",
    "    if f.mode=='r':\n",
    "        x=f.read()\n",
    "        l=x.split()  \n",
    "    return len(l)-1\n",
    "whiteSpacesCount('file1.txt')"
   ]
  },
  {
   "cell_type": "code",
   "execution_count": 31,
   "metadata": {},
   "outputs": [
    {
     "data": {
      "text/plain": [
       "3"
      ]
     },
     "execution_count": 31,
     "metadata": {},
     "output_type": "execute_result"
    }
   ],
   "source": [
    "def characterCount(fileName,char):\n",
    "    l=[]\n",
    "    f=open(fileName,'r')\n",
    "    if f.mode=='r':\n",
    "        x=f.read()\n",
    "    count=x.count(char)\n",
    "    return count\n",
    "characterCount('file1.txt','e')"
   ]
  },
  {
   "cell_type": "code",
   "execution_count": 32,
   "metadata": {},
   "outputs": [
    {
     "data": {
      "text/plain": [
       "1"
      ]
     },
     "execution_count": 32,
     "metadata": {},
     "output_type": "execute_result"
    }
   ],
   "source": [
    "def upperCaseCount(fileName):\n",
    "    l=[]\n",
    "    f=open(fileName,'r')\n",
    "    if f.mode=='r':\n",
    "        x=f.read()\n",
    "        if(x>='A' and x<='Z'):\n",
    "            l.append(x)\n",
    "    for i in l:\n",
    "        \n",
    "upperCaseCount('file1.txt')"
   ]
  },
  {
   "cell_type": "code",
   "execution_count": null,
   "metadata": {},
   "outputs": [],
   "source": []
  }
 ],
 "metadata": {
  "kernelspec": {
   "display_name": "Python 3",
   "language": "python",
   "name": "python3"
  },
  "language_info": {
   "codemirror_mode": {
    "name": "ipython",
    "version": 3
   },
   "file_extension": ".py",
   "mimetype": "text/x-python",
   "name": "python",
   "nbconvert_exporter": "python",
   "pygments_lexer": "ipython3",
   "version": "3.7.1"
  }
 },
 "nbformat": 4,
 "nbformat_minor": 2
}
