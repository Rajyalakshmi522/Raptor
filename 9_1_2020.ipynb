{
  "nbformat": 4,
  "nbformat_minor": 0,
  "metadata": {
    "kernelspec": {
      "display_name": "Python 3",
      "language": "python",
      "name": "python3"
    },
    "language_info": {
      "codemirror_mode": {
        "name": "ipython",
        "version": 3
      },
      "file_extension": ".py",
      "mimetype": "text/x-python",
      "name": "python",
      "nbconvert_exporter": "python",
      "pygments_lexer": "ipython3",
      "version": "3.7.1"
    },
    "colab": {
      "name": "9-1-2020.ipynb",
      "provenance": []
    }
  },
  "cells": [
    {
      "cell_type": "markdown",
      "metadata": {
        "id": "ztjwID2XF0IV",
        "colab_type": "text"
      },
      "source": [
        "### Files\n",
        "- write the file data\n",
        "- apppend the file data\n",
        "- read the file data\n",
        "- word count\n",
        "- character count\n",
        "- some specific examples on characters and words\n",
        "\n",
        "\n",
        "- File Modes\n",
        "    - w(If file not exists,it will create file and put some data in it)\n",
        "       (If file already exists then it rewrites existing file data)\n",
        "    - a(If file is not exist then it will craete file and data will return)\n",
        "        (If file already exists then the data eill return from lastline\n",
        "    - r(used to read the file data)"
      ]
    },
    {
      "cell_type": "code",
      "metadata": {
        "id": "gm-WOXXNF0Ia",
        "colab_type": "code",
        "colab": {},
        "outputId": "578aa042-5967-41e3-914e-145940c53411"
      },
      "source": [
        "def createFile(fileName):\n",
        "    f=open(fileName,'w')\n",
        "    for i in range(10):\n",
        "        f.write('this line\\n')\n",
        "        #print(\"this is\",i,\"line\")\n",
        "    print(\"file is created & data has written into it\")\n",
        "    return\n",
        "createFile('file1.txt')\n"
      ],
      "execution_count": 0,
      "outputs": [
        {
          "output_type": "stream",
          "text": [
            "file is created & data has written into it\n"
          ],
          "name": "stdout"
        }
      ]
    },
    {
      "cell_type": "code",
      "metadata": {
        "id": "aQPM1znUF0In",
        "colab_type": "code",
        "colab": {},
        "outputId": "202ef2c9-8f26-4d55-d9f1-8b34d453387d"
      },
      "source": [
        "pwd"
      ],
      "execution_count": 0,
      "outputs": [
        {
          "output_type": "execute_result",
          "data": {
            "text/plain": [
              "'C:\\\\Users\\\\subba'"
            ]
          },
          "metadata": {
            "tags": []
          },
          "execution_count": 7
        }
      ]
    },
    {
      "cell_type": "code",
      "metadata": {
        "id": "bCk1jAjJF0Iv",
        "colab_type": "code",
        "colab": {}
      },
      "source": [
        "def testFileData(fileName):\n",
        "    f=open(fileName,'w')\n",
        "    f.write(\"New Data is New Line\")\n",
        "    return\n",
        "testFileData('file1.txt')"
      ],
      "execution_count": 0,
      "outputs": []
    },
    {
      "cell_type": "code",
      "metadata": {
        "id": "EDP3a-ITF0I3",
        "colab_type": "code",
        "colab": {},
        "outputId": "98a4cf82-944a-470f-9115-a2c500daa91c"
      },
      "source": [
        "def appendData(fileName):\n",
        "    f=open(fileName,'a')\n",
        "    f.write(\"\\nnew line data\")\n",
        "    print(\"Data is appended\")\n",
        "    return\n",
        "appendData('file1.txt')"
      ],
      "execution_count": 0,
      "outputs": [
        {
          "output_type": "stream",
          "text": [
            "Data is appended\n"
          ],
          "name": "stdout"
        }
      ]
    },
    {
      "cell_type": "code",
      "metadata": {
        "id": "D1Q6ZGuIF0I_",
        "colab_type": "code",
        "colab": {},
        "outputId": "63e1ea21-aba4-4775-9930-ffd3e781dd22"
      },
      "source": [
        "def readFileData(fileName):\n",
        "    f=open(fileName,'r')\n",
        "    if f.mode=='r':\n",
        "        x=f.read()#var string\n",
        "        print(x)\n",
        "    else:\n",
        "        print(\"Error message\")\n",
        "    return\n",
        "readFileData('file1.txt')"
      ],
      "execution_count": 0,
      "outputs": [
        {
          "output_type": "stream",
          "text": [
            "new datanew line data\n",
            "new line data\n",
            "new line data\n"
          ],
          "name": "stdout"
        }
      ]
    },
    {
      "cell_type": "markdown",
      "metadata": {
        "id": "cY0mEGp-F0JG",
        "colab_type": "text"
      },
      "source": [
        "### word count"
      ]
    },
    {
      "cell_type": "code",
      "metadata": {
        "id": "UVYZYJJkF0JI",
        "colab_type": "code",
        "colab": {},
        "outputId": "2952e2c6-9f46-4dfb-ef9e-78b0a4c00aa0"
      },
      "source": [
        "def wordCount(fileName):\n",
        "    l=[]\n",
        "    f=open(fileName,'r')\n",
        "    #with open(fileName,mode) as f:\n",
        "    if f.mode=='r':\n",
        "        x=f.read()\n",
        "        l=x.split()  \n",
        "    return len(l)\n",
        "wordCount('file1.txt')"
      ],
      "execution_count": 0,
      "outputs": [
        {
          "output_type": "execute_result",
          "data": {
            "text/plain": [
              "10"
            ]
          },
          "metadata": {
            "tags": []
          },
          "execution_count": 18
        }
      ]
    },
    {
      "cell_type": "code",
      "metadata": {
        "id": "_JqBPFumF0JO",
        "colab_type": "code",
        "colab": {},
        "outputId": "4f0feda2-b793-4e75-8de6-31d451d5130e"
      },
      "source": [
        "l=[]\n",
        "s='dhyanahita org pragathi nagar'\n",
        "l=s.split(' ')\n",
        "print(len(l))"
      ],
      "execution_count": 0,
      "outputs": [
        {
          "output_type": "stream",
          "text": [
            "4\n"
          ],
          "name": "stdout"
        }
      ]
    },
    {
      "cell_type": "code",
      "metadata": {
        "id": "Oa4WQzS5F0JS",
        "colab_type": "code",
        "colab": {},
        "outputId": "8a0d6258-7df0-4509-a18a-f535a87217f0"
      },
      "source": [
        "def specificWordCount(fileName,word):\n",
        "    l=[]\n",
        "    f=open(fileName,'r')\n",
        "    if f.mode=='r':\n",
        "        x=f.read()\n",
        "        l=x.split()\n",
        "    count=l.count(word)\n",
        "    return count\n",
        "specificWordCount('file1.txt','line')"
      ],
      "execution_count": 0,
      "outputs": [
        {
          "output_type": "execute_result",
          "data": {
            "text/plain": [
              "3"
            ]
          },
          "metadata": {
            "tags": []
          },
          "execution_count": 19
        }
      ]
    },
    {
      "cell_type": "code",
      "metadata": {
        "id": "K2t-P9upF0Jf",
        "colab_type": "code",
        "colab": {},
        "outputId": "fd043bd2-c890-46f6-9b05-bb138955d729"
      },
      "source": [
        "def whiteSpacesCount(fileName):\n",
        "    l=[]\n",
        "    f=open(fileName,'r')\n",
        "    #with open(fileName,mode) as f:\n",
        "    if f.mode=='r':\n",
        "        x=f.read()\n",
        "        l=x.split()  \n",
        "    return len(l)-1\n",
        "whiteSpacesCount('file1.txt')"
      ],
      "execution_count": 0,
      "outputs": [
        {
          "output_type": "execute_result",
          "data": {
            "text/plain": [
              "4"
            ]
          },
          "metadata": {
            "tags": []
          },
          "execution_count": 27
        }
      ]
    },
    {
      "cell_type": "code",
      "metadata": {
        "id": "3vCohtKAF0Jq",
        "colab_type": "code",
        "colab": {},
        "outputId": "1b02b30c-5a08-43ba-fb28-5081f0e86131"
      },
      "source": [
        "def characterCount(fileName,char):\n",
        "    l=[]\n",
        "    f=open(fileName,'r')\n",
        "    if f.mode=='r':\n",
        "        x=f.read()\n",
        "    count=x.count(char)\n",
        "    return count\n",
        "characterCount('file1.txt','e')"
      ],
      "execution_count": 0,
      "outputs": [
        {
          "output_type": "execute_result",
          "data": {
            "text/plain": [
              "3"
            ]
          },
          "metadata": {
            "tags": []
          },
          "execution_count": 31
        }
      ]
    },
    {
      "cell_type": "code",
      "metadata": {
        "id": "CCwONUD7F0Jv",
        "colab_type": "code",
        "colab": {},
        "outputId": "fc7ca0b7-8dbe-4ba7-a316-033ed06de525"
      },
      "source": [
        "def upperCaseCount(fileName):\n",
        "    l=[]\n",
        "    f=open(fileName,'r')\n",
        "    if f.mode=='r':\n",
        "        x=f.read()\n",
        "        if(x>='A' and x<='Z'):\n",
        "            l.append(x)\n",
        "    for i in l:\n",
        "        \n",
        "upperCaseCount('file1.txt')"
      ],
      "execution_count": 0,
      "outputs": [
        {
          "output_type": "execute_result",
          "data": {
            "text/plain": [
              "1"
            ]
          },
          "metadata": {
            "tags": []
          },
          "execution_count": 32
        }
      ]
    },
    {
      "cell_type": "code",
      "metadata": {
        "id": "3xHnUu0FF0J1",
        "colab_type": "code",
        "colab": {}
      },
      "source": [
        ""
      ],
      "execution_count": 0,
      "outputs": []
    }
  ]
}